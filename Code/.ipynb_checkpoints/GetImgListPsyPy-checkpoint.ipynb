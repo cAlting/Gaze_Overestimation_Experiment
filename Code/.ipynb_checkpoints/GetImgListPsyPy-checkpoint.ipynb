{
 "cells": [
  {
   "cell_type": "code",
   "execution_count": 24,
   "id": "7623c71d",
   "metadata": {},
   "outputs": [],
   "source": [
    "from pathlib import Path\n",
    "import glob\n",
    "import os\n",
    "import re\n",
    "import pandas as pd"
   ]
  },
  {
   "cell_type": "code",
   "execution_count": 2,
   "id": "5613ec55",
   "metadata": {},
   "outputs": [],
   "source": [
    "exp_root_dir = r'C:\\Users\\calti\\Documents\\Masterarbeit\\PsychoPy'"
   ]
  },
  {
   "cell_type": "code",
   "execution_count": 106,
   "id": "f631fee7",
   "metadata": {},
   "outputs": [],
   "source": [
    "train_img_paths = glob.glob(exp_root_dir + os.sep + \"img_train\" + os.sep + \"*.jpg\")\n",
    "exp_img_paths = glob.glob(exp_root_dir + os.sep + \"img_exp\" + os.sep + \"*.jpg\")\n",
    "\n",
    "for p, pp in zip(train_img_paths, exp_img_paths):\n",
    "    print(f'{p}\\n{pp}\\n\\n')"
   ]
  },
  {
   "cell_type": "code",
   "execution_count": 107,
   "id": "c29445fe",
   "metadata": {},
   "outputs": [
    {
     "data": {
      "text/html": [
       "<div>\n",
       "<style scoped>\n",
       "    .dataframe tbody tr th:only-of-type {\n",
       "        vertical-align: middle;\n",
       "    }\n",
       "\n",
       "    .dataframe tbody tr th {\n",
       "        vertical-align: top;\n",
       "    }\n",
       "\n",
       "    .dataframe thead th {\n",
       "        text-align: right;\n",
       "    }\n",
       "</style>\n",
       "<table border=\"1\" class=\"dataframe\">\n",
       "  <thead>\n",
       "    <tr style=\"text-align: right;\">\n",
       "      <th></th>\n",
       "      <th>img_path</th>\n",
       "      <th>img_rel_path</th>\n",
       "      <th>looker</th>\n",
       "      <th>visAng</th>\n",
       "    </tr>\n",
       "  </thead>\n",
       "  <tbody>\n",
       "    <tr>\n",
       "      <th>0</th>\n",
       "      <td>C:\\Users\\calti\\Documents\\Masterarbeit\\PsychoPy...</td>\n",
       "      <td>img_train\\F02_00.JPG</td>\n",
       "      <td>F02</td>\n",
       "      <td>0</td>\n",
       "    </tr>\n",
       "    <tr>\n",
       "      <th>1</th>\n",
       "      <td>C:\\Users\\calti\\Documents\\Masterarbeit\\PsychoPy...</td>\n",
       "      <td>img_train\\F02_01.JPG</td>\n",
       "      <td>F02</td>\n",
       "      <td>1</td>\n",
       "    </tr>\n",
       "    <tr>\n",
       "      <th>2</th>\n",
       "      <td>C:\\Users\\calti\\Documents\\Masterarbeit\\PsychoPy...</td>\n",
       "      <td>img_train\\F02_02.JPG</td>\n",
       "      <td>F02</td>\n",
       "      <td>2</td>\n",
       "    </tr>\n",
       "    <tr>\n",
       "      <th>3</th>\n",
       "      <td>C:\\Users\\calti\\Documents\\Masterarbeit\\PsychoPy...</td>\n",
       "      <td>img_train\\F02_03.JPG</td>\n",
       "      <td>F02</td>\n",
       "      <td>3</td>\n",
       "    </tr>\n",
       "    <tr>\n",
       "      <th>4</th>\n",
       "      <td>C:\\Users\\calti\\Documents\\Masterarbeit\\PsychoPy...</td>\n",
       "      <td>img_train\\F02_04.JPG</td>\n",
       "      <td>F02</td>\n",
       "      <td>4</td>\n",
       "    </tr>\n",
       "    <tr>\n",
       "      <th>5</th>\n",
       "      <td>C:\\Users\\calti\\Documents\\Masterarbeit\\PsychoPy...</td>\n",
       "      <td>img_train\\F02_05.JPG</td>\n",
       "      <td>F02</td>\n",
       "      <td>5</td>\n",
       "    </tr>\n",
       "    <tr>\n",
       "      <th>6</th>\n",
       "      <td>C:\\Users\\calti\\Documents\\Masterarbeit\\PsychoPy...</td>\n",
       "      <td>img_train\\F02_06.JPG</td>\n",
       "      <td>F02</td>\n",
       "      <td>6</td>\n",
       "    </tr>\n",
       "    <tr>\n",
       "      <th>7</th>\n",
       "      <td>C:\\Users\\calti\\Documents\\Masterarbeit\\PsychoPy...</td>\n",
       "      <td>img_train\\F02_07.JPG</td>\n",
       "      <td>F02</td>\n",
       "      <td>7</td>\n",
       "    </tr>\n",
       "    <tr>\n",
       "      <th>8</th>\n",
       "      <td>C:\\Users\\calti\\Documents\\Masterarbeit\\PsychoPy...</td>\n",
       "      <td>img_train\\F02_08.JPG</td>\n",
       "      <td>F02</td>\n",
       "      <td>8</td>\n",
       "    </tr>\n",
       "    <tr>\n",
       "      <th>9</th>\n",
       "      <td>C:\\Users\\calti\\Documents\\Masterarbeit\\PsychoPy...</td>\n",
       "      <td>img_train\\F02_09.JPG</td>\n",
       "      <td>F02</td>\n",
       "      <td>9</td>\n",
       "    </tr>\n",
       "  </tbody>\n",
       "</table>\n",
       "</div>"
      ],
      "text/plain": [
       "                                            img_path          img_rel_path  \\\n",
       "0  C:\\Users\\calti\\Documents\\Masterarbeit\\PsychoPy...  img_train\\F02_00.JPG   \n",
       "1  C:\\Users\\calti\\Documents\\Masterarbeit\\PsychoPy...  img_train\\F02_01.JPG   \n",
       "2  C:\\Users\\calti\\Documents\\Masterarbeit\\PsychoPy...  img_train\\F02_02.JPG   \n",
       "3  C:\\Users\\calti\\Documents\\Masterarbeit\\PsychoPy...  img_train\\F02_03.JPG   \n",
       "4  C:\\Users\\calti\\Documents\\Masterarbeit\\PsychoPy...  img_train\\F02_04.JPG   \n",
       "5  C:\\Users\\calti\\Documents\\Masterarbeit\\PsychoPy...  img_train\\F02_05.JPG   \n",
       "6  C:\\Users\\calti\\Documents\\Masterarbeit\\PsychoPy...  img_train\\F02_06.JPG   \n",
       "7  C:\\Users\\calti\\Documents\\Masterarbeit\\PsychoPy...  img_train\\F02_07.JPG   \n",
       "8  C:\\Users\\calti\\Documents\\Masterarbeit\\PsychoPy...  img_train\\F02_08.JPG   \n",
       "9  C:\\Users\\calti\\Documents\\Masterarbeit\\PsychoPy...  img_train\\F02_09.JPG   \n",
       "\n",
       "  looker  visAng  \n",
       "0    F02       0  \n",
       "1    F02       1  \n",
       "2    F02       2  \n",
       "3    F02       3  \n",
       "4    F02       4  \n",
       "5    F02       5  \n",
       "6    F02       6  \n",
       "7    F02       7  \n",
       "8    F02       8  \n",
       "9    F02       9  "
      ]
     },
     "execution_count": 107,
     "metadata": {},
     "output_type": "execute_result"
    }
   ],
   "source": [
    "# create training conditions file\n",
    "looker_train = []\n",
    "visAng_train = []\n",
    "rel_path_train = []\n",
    "\n",
    "for paths in train_img_paths:\n",
    "    # split paths at each os sep, unterscore and dot\n",
    "    split_parts = re.split(r'[\\\\/_.]', paths)\n",
    "    # add looker id to looker list\n",
    "    looker_train.append(split_parts[-3])\n",
    "    # add visual angle to visAng list\n",
    "    visAng_train.append(int(split_parts[-2][1]))\n",
    "    # add relative path of image file to list\n",
    "    rel_path_train.append(os.sep.join(paths.split(os.sep)[-2:]))\n",
    "    \n",
    "df_train = pd.DataFrame({'img_path': train_img_paths, 'img_rel_path': rel_path_train, 'looker': looker_train, 'visAng': visAng_train})\n",
    "df_train"
   ]
  },
  {
   "cell_type": "code",
   "execution_count": 108,
   "id": "c458d02a",
   "metadata": {},
   "outputs": [],
   "source": [
    "# Export training conditions file to excel\n",
    "df_train.to_excel(exp_root_dir+os.sep+\"cond_training.xlsx\", index=False)"
   ]
  },
  {
   "cell_type": "code",
   "execution_count": null,
   "id": "47d70de9",
   "metadata": {},
   "outputs": [],
   "source": [
    "# create experiment conditions file\n",
    "looker_exp = []\n",
    "visAng_exp = []\n",
    "rel_path_exp = []\n",
    "\n",
    "for paths in exp_img_paths:\n",
    "    # split paths at each os sep, unterscore and dot\n",
    "    split_parts = re.split(r'[\\\\/_.]', paths)\n",
    "    # add looker id to looker list\n",
    "    looker_exp.append(split_parts[-3])\n",
    "    # add visual angle to visAng list\n",
    "    visAng_exp.append(split_parts[-2][1])\n",
    "    # add relative path of image file to list\n",
    "    rel_path_exp.append(os.sep.join(paths.split(os.sep)[-2:]))\n",
    "    \n",
    "df_exp = pd.DataFrame({'img_path': exp_img_paths, 'img_rel_path': rel_path_exp, 'looker': looker_exp, 'visAng': visAng_exp})\n",
    "df_exp"
   ]
  },
  {
   "cell_type": "code",
   "execution_count": null,
   "id": "6ee80068",
   "metadata": {},
   "outputs": [],
   "source": [
    "# Export training conditions file to excel\n",
    "df_exp.to_excel(exp_root_dir+os.sep+\"cond_training.xlsx\", index=False)"
   ]
  },
  {
   "cell_type": "code",
   "execution_count": 97,
   "id": "93786018",
   "metadata": {},
   "outputs": [
    {
     "name": "stdout",
     "output_type": "stream",
     "text": [
      "Looker: F02 0\n",
      "Looker: F02 1\n",
      "Looker: F02 2\n",
      "Looker: F02 3\n",
      "Looker: F02 4\n",
      "Looker: F02 5\n",
      "Looker: F02 6\n",
      "Looker: F02 7\n",
      "Looker: F02 8\n",
      "Looker: F02 9\n"
     ]
    }
   ],
   "source": [
    "for l,v in zip(looker, visAng):\n",
    "    print(f\"Looker: {l} {v}\")"
   ]
  }
 ],
 "metadata": {
  "kernelspec": {
   "display_name": "Python 3 (ipykernel)",
   "language": "python",
   "name": "python3"
  },
  "language_info": {
   "codemirror_mode": {
    "name": "ipython",
    "version": 3
   },
   "file_extension": ".py",
   "mimetype": "text/x-python",
   "name": "python",
   "nbconvert_exporter": "python",
   "pygments_lexer": "ipython3",
   "version": "3.9.13"
  }
 },
 "nbformat": 4,
 "nbformat_minor": 5
}
