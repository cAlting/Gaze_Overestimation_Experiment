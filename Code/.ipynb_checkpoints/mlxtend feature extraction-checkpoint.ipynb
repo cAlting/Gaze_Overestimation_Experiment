{
 "cells": [
  {
   "cell_type": "code",
   "execution_count": 25,
   "id": "a2420eb1",
   "metadata": {},
   "outputs": [],
   "source": [
    "import imageio.v2 as imageio\n",
    "from mlxtend.image import EyepadAlign\n",
    "from mlxtend.image import extract_face_landmarks\n",
    "import numpy as np\n",
    "import glob\n",
    "import matplotlib.pyplot as plt\n",
    "import random\n",
    "import os"
   ]
  },
  {
   "cell_type": "code",
   "execution_count": 2,
   "id": "25bd1f13",
   "metadata": {},
   "outputs": [],
   "source": [
    "# Random Sample aus allen Bildern für Fitting ziehen\n",
    "\n",
    "# Einlesen des Stammverzeichnispfades und der absoluten Pfade zu allen Bilddateien\n",
    "path = r\"C:\\Users\\calti\\Documents\\Masterarbeit\\Bilder\\JPG Targets\"\n",
    "imgs = glob.glob(path + \"\\*.JPG\")\n",
    "\n",
    "# Random Sample aus Pfaden ziehen\n",
    "targets = random.sample(imgs, 20)\n",
    "\n",
    "# Output Dir festlegen\n",
    "output_dir = r\"C:\\Users\\calti\\Documents\\Masterarbeit\\Bilder\\JPG_output\"\n",
    "\n",
    "if !os.path.exists(output_dir):\n",
    "    os.mkdir(output_dir)\n",
    "    \n",
    "# Schreiben der Bilder des Random Samples ins Output Dir\n",
    "for idx, img in enumerate(targets):\n",
    "    tmp = imageio.imread(img)\n",
    "    imageio.imwrite(output_dir+str(idx)+\".jpg\", tmp)"
   ]
  },
  {
   "cell_type": "code",
   "execution_count": null,
   "id": "3b884224",
   "metadata": {},
   "outputs": [],
   "source": [
    "# ALTERNATIVE zu Random Sample: von jedem Looker ein Bild auswählen\n",
    "\n",
    "path = r\"C:\\Users\\calti\\Documents\\Masterarbeit\\Bilder\\JPG Targets\"\n",
    "imgs = glob.glob(path + \"\\*.JPG\")\n",
    "\n",
    "targets = [img for i in range(0,len(imgs),13)]\n",
    "\n",
    "output_dir = r\"C:\\Users\\calti\\Documents\\Masterarbeit\\Bilder\\JPG_output\"\n",
    "\n",
    "if !os.path.exists(output_dir):\n",
    "    os.mkdir(output_dir)\n",
    "\n",
    "# Schreiben der Bilder des Random Samples ins Output Dir\n",
    "for idx, img in enumerate(targets):\n",
    "    tmp = imageio.imread(img)\n",
    "    imageio.imwrite(output_dir+str(idx)+\".jpg\", tmp)\n",
    "    \n",
    "    if idx == 0:\n",
    "        height, width = tmp.shape"
   ]
  },
  {
   "cell_type": "code",
   "execution_count": 19,
   "id": "c7ad8433",
   "metadata": {},
   "outputs": [
    {
     "name": "stdout",
     "output_type": "stream",
     "text": [
      "Pre-Checking directory for consistent image dimensions...\n"
     ]
    },
    {
     "name": "stderr",
     "output_type": "stream",
     "text": [
      "0% [####################] 100% | ETA: 00:00:00"
     ]
    },
    {
     "name": "stdout",
     "output_type": "stream",
     "text": [
      "Fitting the average facial landmarks for 20 face images \n"
     ]
    },
    {
     "name": "stderr",
     "output_type": "stream",
     "text": [
      "\n",
      "Total time elapsed: 00:00:06\n",
      "0% [####################] 100% | ETA: 00:00:00\n",
      "Total time elapsed: 00:04:01\n"
     ]
    },
    {
     "data": {
      "text/plain": [
       "<mlxtend.image.eyepad_align.EyepadAlign at 0x1cf24b526a0>"
      ]
     },
     "execution_count": 19,
     "metadata": {},
     "output_type": "execute_result"
    }
   ],
   "source": [
    "# Fitten des Modells an die Target/Trainingsdaten\n",
    "eyepad = EyepadAlign(verbose = 1)\n",
    "\n",
    "eyepad.fit_directory(target_img_dir=r\"C:\\Users\\calti\\Documents\\Masterarbeit\\Bilder\\JPG Targets\",\n",
    "                     target_width=width, target_height=height,\n",
    "                     file_extension='.jpg')"
   ]
  },
  {
   "cell_type": "code",
   "execution_count": 20,
   "id": "4096d389",
   "metadata": {},
   "outputs": [],
   "source": [
    "# Zentrum des Bildes (Original)\n",
    "center = np.array([width//2, height//2])\n",
    "\n",
    "# Berechnen des Verschiebungsvektors (center_x - landmark_x, center_y - landmark_y)\n",
    "displacement_vector = center - eyepad.target_landmarks_[27] # index 33 is the nose-tip\n",
    "\n",
    "# Verschieben der Landmarks\n",
    "nose_centered_landmarks = eyepad.target_landmarks_ + displacement_vector\n",
    "\n",
    "# Neues Modell erstellen\n",
    "eyepad_cent_nose = EyepadAlign(verbose=1)\n",
    "\n",
    "# Modell an verschobene Landmarks fitten\n",
    "eyepad_cent_nose.fit_values(target_landmarks=nose_centered_landmarks,\n",
    "                             target_width=width, target_height=height);"
   ]
  },
  {
   "cell_type": "code",
   "execution_count": null,
   "id": "584834cf",
   "metadata": {},
   "outputs": [],
   "source": [
    "### Evaluate the results\n",
    "\n",
    "img = imageio.imread(r\"C:\\Users\\calti\\Documents\\Masterarbeit\\Bilder\\JPG\\F02_04.JPG\")\n",
    "img_tr = eyepad.transform(img)\n",
    "img_nose_centered = eyepad_cent_nose.transform(img)\n",
    "landmarks = extract_face_landmarks(img_nose_centered)\n",
    "\n",
    "fig = plt.figure(figsize=(10, 30))\n",
    "ax = fig.add_subplot(3, 1, 1)\n",
    "ax.imshow(img)\n",
    "ax.set_title('Original', size=20)\n",
    "\n",
    "ax = fig.add_subplot(3, 1, 2)\n",
    "ax.imshow(img_tr)\n",
    "ax.set_title('Aligned (Average eye \\n position in dataset)', size=15)\n",
    "\n",
    "ax = fig.add_subplot(3, 1, 3)\n",
    "ax.imshow(img_nose_centered)\n",
    "plt.plot(landmarks[27][0], landmarks[27][1], marker=\"o\", color=\"r\")\n",
    "ax.set_title('Aligned (Nose in image center)', size=15)\n",
    "\n",
    "plt.tight_layout()\n",
    "plt.show()"
   ]
  },
  {
   "cell_type": "code",
   "execution_count": null,
   "id": "2eda77bc",
   "metadata": {},
   "outputs": [],
   "source": [
    "img = imageio.imread(r\"C:\\Users\\calti\\Documents\\Masterarbeit\\Bilder\\JPG\\F02_09.jpg\")\n",
    "print('Original Image shape: ', img.shape)\n",
    "\n",
    "img_tr = eyepad.transform(img)\n",
    "print('Transformed Image shape: ', img_tr.shape)"
   ]
  },
  {
   "cell_type": "code",
   "execution_count": 34,
   "id": "42d6e779",
   "metadata": {},
   "outputs": [
    {
     "ename": "KeyboardInterrupt",
     "evalue": "",
     "output_type": "error",
     "traceback": [
      "\u001b[1;31m---------------------------------------------------------------------------\u001b[0m",
      "\u001b[1;31mKeyboardInterrupt\u001b[0m                         Traceback (most recent call last)",
      "Cell \u001b[1;32mIn[34], line 5\u001b[0m\n\u001b[0;32m      3\u001b[0m \u001b[38;5;28;01mfor\u001b[39;00m paths \u001b[38;5;129;01min\u001b[39;00m imgs:\n\u001b[0;32m      4\u001b[0m     img \u001b[38;5;241m=\u001b[39m imageio\u001b[38;5;241m.\u001b[39mimread(paths)\n\u001b[1;32m----> 5\u001b[0m     img_nose_centered \u001b[38;5;241m=\u001b[39m \u001b[43meyepad_cent_nose\u001b[49m\u001b[38;5;241;43m.\u001b[39;49m\u001b[43mtransform\u001b[49m\u001b[43m(\u001b[49m\u001b[43mimg\u001b[49m\u001b[43m)\u001b[49m\n\u001b[0;32m      6\u001b[0m     tmp_str \u001b[38;5;241m=\u001b[39m paths\u001b[38;5;241m.\u001b[39msplit(sep\u001b[38;5;241m=\u001b[39m\u001b[38;5;124m\"\u001b[39m\u001b[38;5;130;01m\\\\\u001b[39;00m\u001b[38;5;124m\"\u001b[39m)\n\u001b[0;32m      7\u001b[0m     name \u001b[38;5;241m=\u001b[39m tmp_str[\u001b[38;5;241m-\u001b[39m\u001b[38;5;241m1\u001b[39m]\n",
      "File \u001b[1;32m~\\anaconda3\\lib\\site-packages\\mlxtend\\image\\eyepad_align.py:292\u001b[0m, in \u001b[0;36mEyepadAlign.transform\u001b[1;34m(self, img)\u001b[0m\n\u001b[0;32m    286\u001b[0m \u001b[38;5;28;01mif\u001b[39;00m \u001b[38;5;129;01mnot\u001b[39;00m \u001b[38;5;28mhasattr\u001b[39m(\u001b[38;5;28mself\u001b[39m, \u001b[38;5;124m\"\u001b[39m\u001b[38;5;124meyes_mid_point_\u001b[39m\u001b[38;5;124m\"\u001b[39m):\n\u001b[0;32m    287\u001b[0m     \u001b[38;5;28;01mraise\u001b[39;00m \u001b[38;5;167;01mAttributeError\u001b[39;00m(\n\u001b[0;32m    288\u001b[0m         \u001b[38;5;124m\"\u001b[39m\u001b[38;5;124mNot fitted, yet. Call one of the `fit*`\u001b[39m\u001b[38;5;124m\"\u001b[39m\n\u001b[0;32m    289\u001b[0m         \u001b[38;5;124m\"\u001b[39m\u001b[38;5;124m methods prior to using `transform`.\u001b[39m\u001b[38;5;124m\"\u001b[39m\n\u001b[0;32m    290\u001b[0m     )\n\u001b[1;32m--> 292\u001b[0m landmarks \u001b[38;5;241m=\u001b[39m \u001b[43mextract_face_landmarks\u001b[49m\u001b[43m(\u001b[49m\u001b[43mimg\u001b[49m\u001b[43m)\u001b[49m\n\u001b[0;32m    293\u001b[0m \u001b[38;5;28;01mif\u001b[39;00m landmarks \u001b[38;5;129;01mis\u001b[39;00m \u001b[38;5;28;01mNone\u001b[39;00m:\n\u001b[0;32m    294\u001b[0m     \u001b[38;5;28;01mreturn\u001b[39;00m\n",
      "File \u001b[1;32m~\\anaconda3\\lib\\site-packages\\mlxtend\\image\\extract_face_landmarks.py:65\u001b[0m, in \u001b[0;36mextract_face_landmarks\u001b[1;34m(img, return_dtype)\u001b[0m\n\u001b[0;32m     29\u001b[0m \u001b[38;5;28;01mdef\u001b[39;00m \u001b[38;5;21mextract_face_landmarks\u001b[39m(img, return_dtype\u001b[38;5;241m=\u001b[39mnp\u001b[38;5;241m.\u001b[39mint32):\n\u001b[0;32m     30\u001b[0m     \u001b[38;5;124;03m\"\"\"Function to extract face landmarks.\u001b[39;00m\n\u001b[0;32m     31\u001b[0m \n\u001b[0;32m     32\u001b[0m \u001b[38;5;124;03m    Note that this function requires an installation of\u001b[39;00m\n\u001b[1;32m   (...)\u001b[0m\n\u001b[0;32m     63\u001b[0m \n\u001b[0;32m     64\u001b[0m \u001b[38;5;124;03m    \"\"\"\u001b[39;00m\n\u001b[1;32m---> 65\u001b[0m     faces \u001b[38;5;241m=\u001b[39m \u001b[43mdetector\u001b[49m\u001b[43m(\u001b[49m\u001b[43mimg\u001b[49m\u001b[43m,\u001b[49m\u001b[43m \u001b[49m\u001b[38;5;241;43m1\u001b[39;49m\u001b[43m)\u001b[49m  \u001b[38;5;66;03m# detecting faces\u001b[39;00m\n\u001b[0;32m     66\u001b[0m     \u001b[38;5;28;01mif\u001b[39;00m \u001b[38;5;129;01mnot\u001b[39;00m faces:\n\u001b[0;32m     67\u001b[0m         warnings\u001b[38;5;241m.\u001b[39mwarn(\u001b[38;5;124m\"\u001b[39m\u001b[38;5;124mNo face detected.\u001b[39m\u001b[38;5;124m\"\u001b[39m)\n",
      "\u001b[1;31mKeyboardInterrupt\u001b[0m: "
     ]
    }
   ],
   "source": [
    "### Evaluate the results\n",
    "out_dir = r\"C:\\Users\\calti\\Documents\\Masterarbeit\\Bilder\"\n",
    "for paths in imgs:\n",
    "    img = imageio.imread(paths)\n",
    "    img_nose_centered = eyepad_cent_nose.transform(img)\n",
    "    tmp_str = paths.split(sep=\"\\\\\")\n",
    "    name = tmp_str[-1]\n",
    "    imageio.imwrite(out_dir+\"\\\\mlx aligned\\\\\"+name, img_nose_centered)"
   ]
  },
  {
   "cell_type": "code",
   "execution_count": null,
   "id": "576f9760",
   "metadata": {},
   "outputs": [],
   "source": [
    "Ausschuss:\n",
    "    "
   ]
  },
  {
   "cell_type": "code",
   "execution_count": null,
   "id": "4bab2a31",
   "metadata": {},
   "outputs": [],
   "source": [
    "import matplotlib.pyplot as plt\n",
    "\n",
    "\n",
    "fig = plt.figure(figsize=(12, 5))\n",
    "ax = fig.add_subplot(1, 3, 1)\n",
    "ax.imshow(target_image)\n",
    "ax.set_title('Target', size=20)\n",
    "ax = fig.add_subplot(1, 3, 2)\n",
    "ax.imshow(img)\n",
    "ax.set_title('Original', size=20)\n",
    "ax = fig.add_subplot(1, 3, 3)\n",
    "ax.imshow(img_tr)\n",
    "ax.set_title('Aligned to Target', size=20)\n",
    "plt.show()"
   ]
  },
  {
   "cell_type": "markdown",
   "id": "59287e81-6cad-40c0-be73-0d58c46705e1",
   "metadata": {},
   "source": [
    "# Feature Extraction"
   ]
  },
  {
   "cell_type": "code",
   "execution_count": 1,
   "id": "45432536-5749-4b34-812b-5ae090f144ce",
   "metadata": {},
   "outputs": [],
   "source": [
    "def center_image_mlx(image, landmark_results, lm1 = 39, lm2 = 42, suppress_output = True):\n",
    "    \"\"\"\n",
    "    Centers an image based on the locations of specific facial landmarks detected by a landmark detection model.\n",
    "\n",
    "    Parameters:\n",
    "    image (numpy.ndarray): Input image to be centered.\n",
    "    landmark_results (mediapipe.python.solutions.face_mesh.FaceMesh): Results of landmark detection model.\n",
    "    lm1 (int, optional): Index of first landmark point to use for centering. Default is 133.\n",
    "    lm2 (int, optional): Index of second landmark point to use for centering. Default is 362.\n",
    "    lm3 (int, optional): Index of third landmark point to use for centering. Default is 168.\n",
    "    suppress_output (bool, optional): If True, suppresses output of diagnostic message printed to console. Default is True.\n",
    "\n",
    "    Returns:\n",
    "    numpy.ndarray: Centered image.\n",
    "    float: x-coordinate of midpoint between specified landmarks in pixels.\n",
    "    float: y-coordinate of point to be centered in pixels.\n",
    "    float: angle between the line connecting the specified landmarks and the horizontal axis in degrees.\n",
    "    \"\"\"\n",
    "    \n",
    "    \n",
    "    # get image width, height and center coordinates\n",
    "    height, width, chann = image.shape\n",
    "    \n",
    "    # Center of Original Input Image\n",
    "    wi=(width/2)\n",
    "    he=(height/2)\n",
    "\n",
    "    # x, y, und z Koordinaten des relevanten Punktes\n",
    "    # ipp1, ..., enthalten jeweils die x-, y- und z-Koordinaten der Landmark in normalisierter Einheit [0,1]\n",
    "    lm1_x = landmarks[lm1][0]\n",
    "    lm1_y = landmarks[lm1][1]\n",
    "    \n",
    "    lm2_x = landmarks[lm2][0]\n",
    "    lm2_y = landmarks[lm2][1]\n",
    "    \n",
    "    # Bestimmung der x-Koordinate des Mittelpunktes zwischen C. lacrimalis rechts und links\n",
    "    # ipp2_x_px: x-Koordinate der C. lacrimalis rechts (landmark 362) [Pixel]\n",
    "    # ipp1_x_px: x-Koordinate der C. lacrimalis links (landmark 133)  [Pixel]\n",
    "    # ipp_half: x-Koordinate der C. lacrimalis links + die Hälfte der Distanz zwischen lm362 und lm133 [Pixel]\n",
    "    #  - dies ist die x-Koordinate des Punktes, der später bei x = Bildbreite/2 liegen soll\n",
    "    ipp_half = lm1_x+(lm2_x-lm1_x)/2\n",
    "    \n",
    "    # Bestimmung der y-Koordinate des Punktes, der später bei y = Bildhöhe/2 liegen soll\n",
    "    if lm1_x < lm2_x:\n",
    "        ipp_half_2 = lm1_y+(lm2_y-lm1_y)/2\n",
    "    else:\n",
    "        ipp_half_2 = lm2_y+(lm1_y-lm2_y)/2\n",
    "    \n",
    "    # Bestimmung des Winkels zwischen der Linie zwischen C.l. sinister und dextra\n",
    "    dX = lm2_x - lm1_x\n",
    "    dY = lm2_y - lm2_y\n",
    "    angle = np.degrees(np.arctan2(dY, dX))\n",
    "    \n",
    "    # Offset = Differenz zwischen (x,y) des Bildzentrums und (x,y) der Landmark\n",
    "    #offsetX = (wi-ipp_half)\n",
    "    #offsetY = (he-ipp_half_2)\n",
    "    offsetX = (wi-ipp_half)\n",
    "    offsetY = (he-ipp_half_2)\n",
    "    \n",
    "    if suppress_output == False:\n",
    "        msg = f'''\n",
    "        EyeL x:   {lm1_x}\n",
    "        EyeR x:   {lm2_x}\n",
    "        EyeL y:   {lm1_y}\n",
    "        EyeR y:   {lm2_y}\n",
    "        IPP x:    {ipp_half}\n",
    "        IPP y:    {ipp_half_2}\n",
    "        Offset x: {offsetX}\n",
    "        Offset y: {offsetY}\n",
    "        Angle:    {angle}\n",
    "        \\n\\n\n",
    "        '''\n",
    "        print(msg)\n",
    "    \n",
    "    # Affine matrix with Translations\n",
    "    T = np.float32([[1, 0, offsetX], [0, 1, offsetY]]) \n",
    "    \n",
    "    # WarpAffine\n",
    "    centered_image = cv2.warpAffine(image, T, (width, height))\n",
    "    \n",
    "    # Return translated Image, x-Koordinate des Punktes zwischen C.l. sinistra und dextra, Winkel\n",
    "    return centered_image, ipp_half, ipp_half_2, angle"
   ]
  },
  {
   "cell_type": "code",
   "execution_count": 5,
   "id": "c24882d9-190d-4146-ab6d-5f3187a2c7bc",
   "metadata": {},
   "outputs": [
    {
     "ename": "ModuleNotFoundError",
     "evalue": "No module named 'skimage'",
     "output_type": "error",
     "traceback": [
      "\u001b[1;31m---------------------------------------------------------------------------\u001b[0m",
      "\u001b[1;31mModuleNotFoundError\u001b[0m                       Traceback (most recent call last)",
      "Cell \u001b[1;32mIn[5], line 2\u001b[0m\n\u001b[0;32m      1\u001b[0m \u001b[38;5;28;01mimport\u001b[39;00m \u001b[38;5;21;01mimageio\u001b[39;00m\u001b[38;5;21;01m.\u001b[39;00m\u001b[38;5;21;01mv2\u001b[39;00m \u001b[38;5;28;01mas\u001b[39;00m \u001b[38;5;21;01mimageio\u001b[39;00m\n\u001b[1;32m----> 2\u001b[0m \u001b[38;5;28;01mfrom\u001b[39;00m \u001b[38;5;21;01mmlxtend\u001b[39;00m\u001b[38;5;21;01m.\u001b[39;00m\u001b[38;5;21;01mimage\u001b[39;00m \u001b[38;5;28;01mimport\u001b[39;00m EyepadAlign\n\u001b[0;32m      3\u001b[0m \u001b[38;5;28;01mfrom\u001b[39;00m \u001b[38;5;21;01mmlxtend\u001b[39;00m\u001b[38;5;21;01m.\u001b[39;00m\u001b[38;5;21;01mimage\u001b[39;00m \u001b[38;5;28;01mimport\u001b[39;00m extract_face_landmarks\n\u001b[0;32m      4\u001b[0m \u001b[38;5;28;01mimport\u001b[39;00m \u001b[38;5;21;01mnumpy\u001b[39;00m \u001b[38;5;28;01mas\u001b[39;00m \u001b[38;5;21;01mnp\u001b[39;00m\n",
      "File \u001b[1;32m~\\anaconda3\\envs\\Master\\lib\\site-packages\\mlxtend\\image\\__init__.py:8\u001b[0m\n\u001b[0;32m      1\u001b[0m \u001b[38;5;66;03m# Sebastian Raschka 2014-2023\u001b[39;00m\n\u001b[0;32m      2\u001b[0m \u001b[38;5;66;03m# mlxtend Machine Learning Library Extensions\u001b[39;00m\n\u001b[0;32m      3\u001b[0m \u001b[38;5;66;03m# Author: Sebastian Raschka <sebastianraschka.com>\u001b[39;00m\n\u001b[0;32m      4\u001b[0m \u001b[38;5;66;03m#\u001b[39;00m\n\u001b[0;32m      5\u001b[0m \u001b[38;5;66;03m# License: BSD 3 clause\u001b[39;00m\n\u001b[0;32m      7\u001b[0m \u001b[38;5;28;01mfrom\u001b[39;00m \u001b[38;5;21;01m.\u001b[39;00m\u001b[38;5;21;01mextract_face_landmarks\u001b[39;00m \u001b[38;5;28;01mimport\u001b[39;00m extract_face_landmarks\n\u001b[1;32m----> 8\u001b[0m \u001b[38;5;28;01mfrom\u001b[39;00m \u001b[38;5;21;01m.\u001b[39;00m\u001b[38;5;21;01meyepad_align\u001b[39;00m \u001b[38;5;28;01mimport\u001b[39;00m EyepadAlign\n\u001b[0;32m     10\u001b[0m __all__ \u001b[38;5;241m=\u001b[39m [\u001b[38;5;124m\"\u001b[39m\u001b[38;5;124mextract_face_landmarks\u001b[39m\u001b[38;5;124m\"\u001b[39m, \u001b[38;5;124m\"\u001b[39m\u001b[38;5;124mEyepadAlign\u001b[39m\u001b[38;5;124m\"\u001b[39m]\n",
      "File \u001b[1;32m~\\anaconda3\\envs\\Master\\lib\\site-packages\\mlxtend\\image\\eyepad_align.py:14\u001b[0m\n\u001b[0;32m     11\u001b[0m \u001b[38;5;28;01mimport\u001b[39;00m \u001b[38;5;21;01mwarnings\u001b[39;00m\n\u001b[0;32m     13\u001b[0m \u001b[38;5;28;01mimport\u001b[39;00m \u001b[38;5;21;01mnumpy\u001b[39;00m \u001b[38;5;28;01mas\u001b[39;00m \u001b[38;5;21;01mnp\u001b[39;00m\n\u001b[1;32m---> 14\u001b[0m \u001b[38;5;28;01mfrom\u001b[39;00m \u001b[38;5;21;01mskimage\u001b[39;00m\u001b[38;5;21;01m.\u001b[39;00m\u001b[38;5;21;01mtransform\u001b[39;00m \u001b[38;5;28;01mimport\u001b[39;00m AffineTransform, resize, warp\n\u001b[0;32m     16\u001b[0m \u001b[38;5;28;01mfrom\u001b[39;00m \u001b[38;5;21;01m.\u001b[39;00m\u001b[38;5;21;01m.\u001b[39;00m\u001b[38;5;21;01mexternals\u001b[39;00m\u001b[38;5;21;01m.\u001b[39;00m\u001b[38;5;21;01mpyprind\u001b[39;00m\u001b[38;5;21;01m.\u001b[39;00m\u001b[38;5;21;01mprogbar\u001b[39;00m \u001b[38;5;28;01mimport\u001b[39;00m ProgBar\n\u001b[0;32m     17\u001b[0m \u001b[38;5;28;01mfrom\u001b[39;00m \u001b[38;5;21;01m.\u001b[39;00m \u001b[38;5;28;01mimport\u001b[39;00m extract_face_landmarks\n",
      "\u001b[1;31mModuleNotFoundError\u001b[0m: No module named 'skimage'"
     ]
    }
   ],
   "source": [
    "import imageio.v2 as imageio\n",
    "from mlxtend.image import EyepadAlign\n",
    "from mlxtend.image import extract_face_landmarks\n",
    "import numpy as np\n",
    "import random\n",
    "import os\n",
    "import cv2\n",
    "import imageio.v2 as imageio\n",
    "import glob\n",
    "import matplotlib.pyplot as plt\n",
    "\n",
    "path = r\"C:\\Users\\calti\\Documents\\Masterarbeit\\Bilder\\JPG\"\n",
    "imgs = glob.glob(path + \"\\*.JPG\")\n",
    "img = imageio.imread(imgs[13])\n",
    "landmarks = extract_face_landmarks(img)\n",
    "\n",
    "cent_img, b, c, d = center_image_mlx(img, landmarks, suppress_output=False)\n",
    "\n",
    "fig = plt.figure(figsize=(30, 30))\n",
    "ax.imshow(cent_img)"
   ]
  },
  {
   "cell_type": "markdown",
   "id": "2dd2e020-f21a-4093-ac88-0eb0e3ee777f",
   "metadata": {},
   "source": [
    "# Test ENDE"
   ]
  },
  {
   "cell_type": "code",
   "execution_count": null,
   "id": "09cb56e7-e39c-40ff-a708-ee432f88f992",
   "metadata": {},
   "outputs": [],
   "source": [
    "import imageio\n",
    "import glob\n",
    "import matplotlib.pyplot as plt\n",
    "from mlxtend.image import extract_face_landmarks\n",
    "\n",
    "path = r\"C:\\Users\\calti\\Documents\\Masterarbeit\\Bilder\\JPG\"\n",
    "imgs = glob.glob(path + \"\\*.JPG\")\n",
    "\n",
    "lm1 = 39\n",
    "lm2 = 42\n",
    "\n",
    "# Loop über alle Bilder einfügen\n",
    "for i, img_path in enumerate(img_list):\n",
    "    \n",
    "    # Read current image\n",
    "    img = imageio.imread(imag_pth)\n",
    "\n",
    "    # Koordinaten der C.l. landmarks extrahieren (x,y)\n",
    "    landmarks = extract_face_landmarks(img)\n",
    "    print(landmarks.shape)\n",
    "    \n",
    "    # Koordinaten der linken C.l.\n",
    "    left_eye_x = landmarks[lm1][0]\n",
    "    left_eye_y = landmarks[lm1][1]\n",
    "    \n",
    "    # Koordinaten der rechten C.l.\n",
    "    right_eye_x = landmarks[lm2][0]\n",
    "    right_eye_y = landmarks[lm2][1]\n",
    "\n",
    "    \n",
    "    \n",
    "fig = plt.figure(figsize=(90, 30))\n",
    "ax = fig.add_subplot(1, 3, 1)\n",
    "ax.imshow(img)\n",
    "ax = fig.add_subplot(1, 3, 2)\n",
    "ax.scatter(landmarks[:, 0], -landmarks[:, 1], alpha=0.8)\n",
    "ax = fig.add_subplot(1, 3, 3)\n",
    "img2 = img.copy()\n",
    "\n",
    "ext = 6\n",
    "\n",
    "for p in landmarks:\n",
    "    img2[p[1]-ext:p[1]+ext, p[0]-ext:p[0]+ext, :] = (255, 255, 255)\n",
    "    # note that the values -3 and +3 will make the landmarks\n",
    "    # overlayed on the image 6 pixels wide; depending on the\n",
    "    # resolution of the face image, you may want to change\n",
    "    # this value\n",
    "\n",
    "ax.imshow(img2)\n",
    "plt.show()"
   ]
  },
  {
   "cell_type": "code",
   "execution_count": 10,
   "id": "b11cb6df-7eb6-41e3-a579-0ff75f9caf63",
   "metadata": {},
   "outputs": [
    {
     "name": "stdout",
     "output_type": "stream",
     "text": [
      "Coordinates of the Left Eye:  [2601.83333333 2007.5       ]\n",
      "Coordinates of the Right Eye:  [3392.16666667 1976.66666667]\n"
     ]
    },
    {
     "data": {
      "image/png": "[encoded data removed]",
      "text/plain": [
       "<Figure size 1000x1000 with 1 Axes>"
      ]
     },
     "metadata": {},
     "output_type": "display_data"
    }
   ],
   "source": [
    "import numpy as np\n",
    "\n",
    "\n",
    "left_eye = np.array([36, 37, 38, 39, 40, 41])\n",
    "right_eye = np.array([42, 43, 44, 45, 46, 47])\n",
    "\n",
    "import matplotlib.pyplot as plt\n",
    "%matplotlib inline\n",
    "\n",
    "\n",
    "fig = plt.figure(figsize=(10,10))\n",
    "plt.plot(landmarks[:,0], -landmarks[:,1], 'ro', markersize=8, alpha = 0.5)\n",
    "for i in range(landmarks.shape[0]):\n",
    "    plt.text(landmarks[i,0]+1, -landmarks[i,1], str(i), size=14)\n",
    "\n",
    "\n",
    "left_eye_center = np.mean(landmarks[left_eye], axis=0)\n",
    "right_eye_center = np.mean(landmarks[right_eye], axis=0)\n",
    "print('Coordinates of the Left Eye: ', left_eye_center)\n",
    "print('Coordinates of the Right Eye: ', right_eye_center)\n",
    "plt.plot([left_eye_center[0]], [-left_eye_center[1]], \n",
    "            marker='+', color='blue', markersize=10, mew=4)\n",
    "\n",
    "plt.plot([right_eye_center[0]], [-right_eye_center[1]], \n",
    "            marker='+', color='blue', markersize=10, mew=4)\n",
    "\n",
    "plt.xticks([])\n",
    "plt.yticks([])\n",
    "\n",
    "plt.show()"
   ]
  }
 ],
 "metadata": {
  "kernelspec": {
   "display_name": "Master",
   "language": "python",
   "name": "master"
  },
  "language_info": {
   "codemirror_mode": {
    "name": "ipython",
    "version": 3
   },
   "file_extension": ".py",
   "mimetype": "text/x-python",
   "name": "python",
   "nbconvert_exporter": "python",
   "pygments_lexer": "ipython3",
   "version": "3.9.16"
  }
 },
 "nbformat": 4,
 "nbformat_minor": 5
}
