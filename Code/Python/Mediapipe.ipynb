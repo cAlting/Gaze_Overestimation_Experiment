{
 "cells": [
  {
   "cell_type": "code",
   "execution_count": null,
   "id": "1bc9fabf",
   "metadata": {},
   "outputs": [],
   "source": [
    "import cv2\n",
    "import itertools\n",
    "import numpy as np\n",
    "from time import time\n",
    "import mediapipe as mp\n",
    "import matplotlib.pyplot as plt"
   ]
  },
  {
   "cell_type": "code",
   "execution_count": null,
   "id": "6f08fa0d",
   "metadata": {},
   "outputs": [],
   "source": [
    "mp_face_mesh = mp.solutions.face_mesh\n",
    "\n",
    "face_mesh_images = mp_face_mesh.FaceMesh(static_image_mode=True, \n",
    "                                         max_num_faces=1,\n",
    "                                         min_detection_confidence=0.5,\n",
    "                                         refine_landmarks=True,)\n",
    "\n",
    "mp_drawing = mp.solutions.drawing_utils\n",
    "\n",
    "mp_drawing_styles = mp.solutions.drawing_styles"
   ]
  },
  {
   "cell_type": "code",
   "execution_count": null,
   "id": "1700d005",
   "metadata": {},
   "outputs": [],
   "source": [
    "sample_img = cv2.imread('media/sample.jpg')\n",
    "\n",
    "plt.figure(figsize = [10, 10])\n",
    "\n",
    "plt.title(\"Sample Image\")\n",
    "plt.axis('off')\n",
    "plt.imshow(sample_img[:,:,::-1])\n",
    "plt.show()"
   ]
  },
  {
   "cell_type": "code",
   "execution_count": null,
   "id": "01e87c34",
   "metadata": {},
   "outputs": [],
   "source": [
    "face_mesh_results = face_mesh_images.process(sample_img[:,:,::-1])\n",
    "\n",
    "LEFT_EYE_INDEXES = list(set(itertools.chain(*mp_face_mesh.FACEMESH_LEFT_EYE)))\n",
    "RIGHT_EYE_INDEXES = list(set(itertools.chain(*mp_face_mesh.FACEMESH_RIGHT_EYE)))\n",
    "\n",
    "if face_mesh_results.multi_face_landmarks:\n",
    "\n",
    "    for face_no, face_landmarks in enumerate(face_mesh_results.multi_face_landmarks):\n",
    "\n",
    "        print(f'FACE NUMBER: {face_no+1}')\n",
    "        print('-----------------------')\n",
    "\n",
    "        print(f'LEFT EYE LANDMARKS:n')\n",
    "\n",
    "        for LEFT_EYE_INDEX in LEFT_EYE_INDEXES[:2]:\n",
    "\n",
    "            print(face_landmarks.landmark[LEFT_EYE_INDEX])\n",
    "\n",
    "        print(f'RIGHT EYE LANDMARKS:n')\n",
    "\n",
    "        for RIGHT_EYE_INDEX in RIGHT_EYE_INDEXES[:2]:\n",
    "\n",
    "            print(face_landmarks.landmark[RIGHT_EYE_INDEX])"
   ]
  },
  {
   "cell_type": "code",
   "execution_count": null,
   "id": "01c29240",
   "metadata": {},
   "outputs": [],
   "source": [
    "img_copy = sample_img[:,:,::-1].copy()\n",
    "\n",
    "if face_mesh_results.multi_face_landmarks:\n",
    "\n",
    "    for face_landmarks in face_mesh_results.multi_face_landmarks:\n",
    "\n",
    "        mp_drawing.draw_landmarks(image=img_copy, \n",
    "                                  landmark_list=face_landmarks,connections=mp_face_mesh.FACEMESH_TESSELATION,\n",
    "                                  landmark_drawing_spec=None, \n",
    "                                  connection_drawing_spec=mp_drawing_styles.get_default_face_mesh_tesselation_style())\n",
    "        \n",
    "        mp_drawing.draw_landmarks(image=img_copy, landmark_list=face_landmarks,connections=mp_face_mesh.FACEMESH_CONTOURS,\n",
    "                                  landmark_drawing_spec=None, \n",
    "                                  connection_drawing_spec=mp_drawing_styles.get_default_face_mesh_contours_style())\n",
    "\n",
    "fig = plt.figure(figsize = [10, 10])\n",
    "plt.title(\"Resultant Image\");plt.axis('off');plt.imshow(img_copy);plt.show()"
   ]
  }
 ],
 "metadata": {
  "kernelspec": {
   "display_name": "Python 3 (ipykernel)",
   "language": "python",
   "name": "python3"
  },
  "language_info": {
   "codemirror_mode": {
    "name": "ipython",
    "version": 3
   },
   "file_extension": ".py",
   "mimetype": "text/x-python",
   "name": "python",
   "nbconvert_exporter": "python",
   "pygments_lexer": "ipython3",
   "version": "3.9.16"
  }
 },
 "nbformat": 4,
 "nbformat_minor": 5
}
