{
 "cells": [
  {
   "cell_type": "markdown",
   "id": "4bbc7050-9735-499a-a5bf-aeb7d9ead592",
   "metadata": {
    "pycharm": {
     "name": "#%% md\n"
    }
   },
   "source": [
    "# Libraries laden"
   ]
  },
  {
   "cell_type": "code",
   "execution_count": 1,
   "id": "5e311dc1-e84f-4062-8f36-726548f6991b",
   "metadata": {
    "pycharm": {
     "name": "#%%\n"
    }
   },
   "outputs": [],
   "source": [
    "import pandas as pd\n",
    "import numpy as np\n",
    "import glob\n",
    "import seaborn as sns"
   ]
  },
  {
   "cell_type": "code",
   "execution_count": 2,
   "id": "1376e748-237d-4564-96c1-b611ec184b31",
   "metadata": {
    "pycharm": {
     "name": "#%%\n"
    }
   },
   "outputs": [],
   "source": [
    "pd.options.display.max_columns = None\n",
    "pd.options.display.max_rows = 50"
   ]
  },
  {
   "cell_type": "markdown",
   "id": "4b7bbc02-a34a-4ea9-9f74-1760552e4c7b",
   "metadata": {
    "pycharm": {
     "name": "#%% md\n"
    }
   },
   "source": [
    "# 2. CSV-Files einlesen"
   ]
  },
  {
   "cell_type": "markdown",
   "id": "f94723b8-e481-4484-b4af-2fc6dbd779f6",
   "metadata": {
    "pycharm": {
     "name": "#%% md\n"
    }
   },
   "source": [
    "## 2.1 Liste der csv-Files erstellen"
   ]
  },
  {
   "cell_type": "code",
   "execution_count": 7,
   "id": "134d38ad-969b-4dda-9943-40b47dc3b74d",
   "metadata": {
    "pycharm": {
     "name": "#%%\n"
    }
   },
   "outputs": [
    {
     "data": {
      "text/plain": "48"
     },
     "execution_count": 7,
     "metadata": {},
     "output_type": "execute_result"
    }
   ],
   "source": [
    "#csv_files = glob.glob(r\"C:\\Users\\calti\\Documents\\Masterempra\\data\\*.csv\")\n",
    "#csv_files\n",
    "\n",
    "csv_files = glob.glob(r\"C:\\Users\\Conrad Alting\\OneDrive - uni-bielefeld.de\\Master\\D Projektarbeit\\D.2 Projektarbeit 2\\data\\*.csv\")\n",
    "csv_files\n",
    "len(csv_files)"
   ]
  },
  {
   "cell_type": "markdown",
   "id": "11eae15f-9c1c-470b-bf65-282e7615e127",
   "metadata": {
    "pycharm": {
     "name": "#%% md\n"
    }
   },
   "source": [
    "## 2.2 csv-Files einlesen"
   ]
  },
  {
   "cell_type": "markdown",
   "id": "f9174a55-406c-4bb1-946c-7590755a855b",
   "metadata": {
    "pycharm": {
     "name": "#%% md\n"
    }
   },
   "source": [
    "### 2.2.1 csv-Files einlesen (mehrere CSVs / EXP)"
   ]
  },
  {
   "cell_type": "code",
   "execution_count": 8,
   "id": "cb4d6a3f-596b-4493-bd9c-b78855152191",
   "metadata": {
    "pycharm": {
     "name": "#%%\n"
    }
   },
   "outputs": [],
   "source": [
    "df_list = []\n",
    "\n",
    "for i, csv in enumerate(csv_files):\n",
    "    tmp_df = pd.read_csv(csv)\n",
    "    tmp_df.insert(loc = len(tmp_df.columns), column = \"subject_id\", value = \"S\"+str(i+1))\n",
    "    #tmp_df.drop(columns = [\"Unnamed: 42\", \"participant\"], inplace=True)\n",
    "    tmp_df.replace(to_replace = {\"trial_resp.keys\": {\"right\": 0, \"down\": 1}}, inplace=True)\n",
    "\n",
    "    df_list.append(tmp_df)"
   ]
  },
  {
   "cell_type": "markdown",
   "id": "30e902a6-2a42-41f9-8930-ed6811d9b12d",
   "metadata": {
    "pycharm": {
     "name": "#%% md\n"
    }
   },
   "source": [
    "### 2.2.2 csv-Files einlesen (einzelne CSV / Check einzelner VPn)"
   ]
  },
  {
   "cell_type": "markdown",
   "id": "731a4d47-e1c4-45ca-b63a-11f1efbbb3f5",
   "metadata": {
    "pycharm": {
     "name": "#%% md\n"
    }
   },
   "source": [
    "# 3. Datensätze bearbeiten"
   ]
  },
  {
   "cell_type": "markdown",
   "id": "b0a1a3eb-da03-4104-9ff5-69a897f4e5d3",
   "metadata": {
    "pycharm": {
     "name": "#%% md\n"
    }
   },
   "source": [
    "## 3.1 Datensätze zusammenfügen"
   ]
  },
  {
   "cell_type": "code",
   "execution_count": 9,
   "outputs": [],
   "source": [
    "df_complete = pd.concat(df_list, ignore_index=True)\n",
    "df_complete.drop([0,0], inplace=True)\n",
    "df_complete.reset_index(inplace=True)"
   ],
   "metadata": {
    "collapsed": false,
    "pycharm": {
     "name": "#%%\n"
    }
   }
  },
  {
   "cell_type": "code",
   "execution_count": 10,
   "outputs": [
    {
     "data": {
      "text/plain": "   index  training_trials.thisRepN  training_trials.thisTrialN  \\\n0      1                       NaN                         NaN   \n1      2                       0.0                         0.0   \n2      3                       1.0                         0.0   \n3      4                       2.0                         0.0   \n4      5                       3.0                         0.0   \n\n   training_trials.thisN  training_trials.thisIndex  blocks.thisRepN  \\\n0                    NaN                        NaN              NaN   \n1                    0.0                        0.0              NaN   \n2                    1.0                        0.0              NaN   \n3                    2.0                        0.0              NaN   \n4                    3.0                        0.0              NaN   \n\n   blocks.thisTrialN  blocks.thisN  blocks.thisIndex  trials.thisRepN  \\\n0                NaN           NaN               NaN              NaN   \n1                NaN           NaN               NaN              NaN   \n2                NaN           NaN               NaN              NaN   \n3                NaN           NaN               NaN              NaN   \n4                NaN           NaN               NaN              NaN   \n\n   trials.thisTrialN  trials.thisN  trials.thisIndex  exp_instr_text.started  \\\n0                NaN           NaN               NaN                     NaN   \n1                NaN           NaN               NaN                     NaN   \n2                NaN           NaN               NaN                     NaN   \n3                NaN           NaN               NaN                     NaN   \n4                NaN           NaN               NaN                     NaN   \n\n  exp_instr_text.stopped exp_instr_resp.keys  exp_instr_resp.rt  \\\n0                    NaN                 NaN                NaN   \n1                    NaN                 NaN                NaN   \n2                    NaN                 NaN                NaN   \n3                    NaN                 NaN                NaN   \n4                    NaN                 NaN                NaN   \n\n   exp_instr_resp.started exp_instr_resp.stopped  instruktionen_audio.started  \\\n0                     NaN                    NaN                    72.327483   \n1                     NaN                    NaN                          NaN   \n2                     NaN                    NaN                          NaN   \n3                     NaN                    NaN                          NaN   \n4                     NaN                    NaN                          NaN   \n\n  instruktionen_audio.stopped  press_space.started press_space.stopped  \\\n0                        None           107.333079                None   \n1                         NaN                  NaN                 NaN   \n2                         NaN                  NaN                 NaN   \n3                         NaN                  NaN                 NaN   \n4                         NaN                  NaN                 NaN   \n\n   train_instr_text.started train_instr_text.stopped train_resp.keys  \\\n0                109.298819                     None           space   \n1                       NaN                      NaN             NaN   \n2                       NaN                      NaN             NaN   \n3                       NaN                      NaN             NaN   \n4                       NaN                      NaN             NaN   \n\n   train_resp.rt  train_resp.started train_resp.stopped  ISI_training.started  \\\n0       0.350159          111.281467               None                   NaN   \n1            NaN                 NaN                NaN              0.014754   \n2            NaN                 NaN                NaN              0.014691   \n3            NaN                 NaN                NaN              0.015140   \n4            NaN                 NaN                NaN              0.015166   \n\n   ISI_training.stopped  face_stim_training.started  \\\n0                   NaN                         NaN   \n1              1.014754                  112.627408   \n2              1.014691                  115.745584   \n3              1.015140                  117.478076   \n4              1.015166                  119.394031   \n\n  face_stim_training.stopped training_rest.keys  training_rest.rt  \\\n0                        NaN                NaN               NaN   \n1                       None              right          2.123082   \n2                       None              right          0.737547   \n3                       None               down          0.921077   \n4                       None               down          0.621185   \n\n   training_rest.started training_rest.stopped  Grad  Grad_abs  \\\n0                    NaN                   NaN   NaN       NaN   \n1             112.627408                  None -30.0      30.0   \n2             115.745584                  None -30.0      30.0   \n3             117.478076                  None   0.0       0.0   \n4             119.394031                  None   0.0       0.0   \n\n                       Looker  \\\n0                         NaN   \n1  Projekt/Stimuli/training/m   \n2  Projekt/Stimuli/training/f   \n3  Projekt/Stimuli/training/f   \n4  Projekt/Stimuli/training/m   \n\n                                           Stim_path  Training  trainIndex  \\\n0                                                NaN       NaN         NaN   \n1  /home/krusty/Documents/Empra_Projekt/Stimuli/t...       1.0         0.0   \n2  /home/krusty/Documents/Empra_Projekt/Stimuli/t...       1.0         1.0   \n3  /home/krusty/Documents/Empra_Projekt/Stimuli/t...       1.0         2.0   \n4  /home/krusty/Documents/Empra_Projekt/Stimuli/t...       1.0         3.0   \n\n   train_exp_text.started train_exp_text.stopped train_exp_resp.keys  \\\n0                     NaN                    NaN                 NaN   \n1                     NaN                    NaN                 NaN   \n2                     NaN                    NaN                 NaN   \n3                     NaN                    NaN                 NaN   \n4                     NaN                    NaN                 NaN   \n\n   train_exp_resp.rt  train_exp_resp.started train_exp_resp.stopped  \\\n0                NaN                     NaN                    NaN   \n1                NaN                     NaN                    NaN   \n2                NaN                     NaN                    NaN   \n3                NaN                     NaN                    NaN   \n4                NaN                     NaN                    NaN   \n\n   block_instr_text.started block_instr_text.stopped block__instr_resp.keys  \\\n0                       NaN                      NaN                    NaN   \n1                       NaN                      NaN                    NaN   \n2                       NaN                      NaN                    NaN   \n3                       NaN                      NaN                    NaN   \n4                       NaN                      NaN                    NaN   \n\n   block__instr_resp.rt  block__instr_resp.started block__instr_resp.stopped  \\\n0                   NaN                        NaN                       NaN   \n1                   NaN                        NaN                       NaN   \n2                   NaN                        NaN                       NaN   \n3                   NaN                        NaN                       NaN   \n4                   NaN                        NaN                       NaN   \n\n   block_instr_voice.started block_instr_voice.stopped  text.started  \\\n0                        NaN                       NaN           NaN   \n1                        NaN                       NaN           NaN   \n2                        NaN                       NaN           NaN   \n3                        NaN                       NaN           NaN   \n4                        NaN                       NaN           NaN   \n\n  text.stopped  ISI.started  ISI.stopped  ISI_instr.started ISI_instr.stopped  \\\n0          NaN          NaN          NaN                NaN               NaN   \n1          NaN          NaN          NaN                NaN               NaN   \n2          NaN          NaN          NaN                NaN               NaN   \n3          NaN          NaN          NaN                NaN               NaN   \n4          NaN          NaN          NaN                NaN               NaN   \n\n   face_stim.started face_stim.stopped  trial_resp.keys  trial_resp.rt  \\\n0                NaN               NaN              NaN            NaN   \n1                NaN               NaN              NaN            NaN   \n2                NaN               NaN              NaN            NaN   \n3                NaN               NaN              NaN            NaN   \n4                NaN               NaN              NaN            NaN   \n\n   trial_resp.started trial_resp.stopped LookerSex Condition  expIndex  \\\n0                 NaN                NaN       NaN       NaN       NaN   \n1                 NaN                NaN       NaN       NaN       NaN   \n2                 NaN                NaN       NaN       NaN       NaN   \n3                 NaN                NaN       NaN       NaN       NaN   \n4                 NaN                NaN       NaN       NaN       NaN   \n\n   exp_end_text.started exp_end_text.stopped  participant sex  Sehtest  \\\n0                   NaN                  NaN          0.0   w      1.0   \n1                   NaN                  NaN          0.0   w      1.0   \n2                   NaN                  NaN          0.0   w      1.0   \n3                   NaN                  NaN          0.0   w      1.0   \n4                   NaN                  NaN          0.0   w      1.0   \n\n                      date              expName psychopyVersion  frameRate  \\\n0  2022-07-01_18h26.16.888  Gaze_Judgment_FINAL        2022.1.2  60.027536   \n1  2022-07-01_18h26.16.888  Gaze_Judgment_FINAL        2022.1.2  60.027536   \n2  2022-07-01_18h26.16.888  Gaze_Judgment_FINAL        2022.1.2  60.027536   \n3  2022-07-01_18h26.16.888  Gaze_Judgment_FINAL        2022.1.2  60.027536   \n4  2022-07-01_18h26.16.888  Gaze_Judgment_FINAL        2022.1.2  60.027536   \n\n   Unnamed: 80 subject_id  \n0          NaN         S1  \n1          NaN         S1  \n2          NaN         S1  \n3          NaN         S1  \n4          NaN         S1  ",
      "text/html": "<div>\n<style scoped>\n    .dataframe tbody tr th:only-of-type {\n        vertical-align: middle;\n    }\n\n    .dataframe tbody tr th {\n        vertical-align: top;\n    }\n\n    .dataframe thead th {\n        text-align: right;\n    }\n</style>\n<table border=\"1\" class=\"dataframe\">\n  <thead>\n    <tr style=\"text-align: right;\">\n      <th></th>\n      <th>index</th>\n      <th>training_trials.thisRepN</th>\n      <th>training_trials.thisTrialN</th>\n      <th>training_trials.thisN</th>\n      <th>training_trials.thisIndex</th>\n      <th>blocks.thisRepN</th>\n      <th>blocks.thisTrialN</th>\n      <th>blocks.thisN</th>\n      <th>blocks.thisIndex</th>\n      <th>trials.thisRepN</th>\n      <th>trials.thisTrialN</th>\n      <th>trials.thisN</th>\n      <th>trials.thisIndex</th>\n      <th>exp_instr_text.started</th>\n      <th>exp_instr_text.stopped</th>\n      <th>exp_instr_resp.keys</th>\n      <th>exp_instr_resp.rt</th>\n      <th>exp_instr_resp.started</th>\n      <th>exp_instr_resp.stopped</th>\n      <th>instruktionen_audio.started</th>\n      <th>instruktionen_audio.stopped</th>\n      <th>press_space.started</th>\n      <th>press_space.stopped</th>\n      <th>train_instr_text.started</th>\n      <th>train_instr_text.stopped</th>\n      <th>train_resp.keys</th>\n      <th>train_resp.rt</th>\n      <th>train_resp.started</th>\n      <th>train_resp.stopped</th>\n      <th>ISI_training.started</th>\n      <th>ISI_training.stopped</th>\n      <th>face_stim_training.started</th>\n      <th>face_stim_training.stopped</th>\n      <th>training_rest.keys</th>\n      <th>training_rest.rt</th>\n      <th>training_rest.started</th>\n      <th>training_rest.stopped</th>\n      <th>Grad</th>\n      <th>Grad_abs</th>\n      <th>Looker</th>\n      <th>Stim_path</th>\n      <th>Training</th>\n      <th>trainIndex</th>\n      <th>train_exp_text.started</th>\n      <th>train_exp_text.stopped</th>\n      <th>train_exp_resp.keys</th>\n      <th>train_exp_resp.rt</th>\n      <th>train_exp_resp.started</th>\n      <th>train_exp_resp.stopped</th>\n      <th>block_instr_text.started</th>\n      <th>block_instr_text.stopped</th>\n      <th>block__instr_resp.keys</th>\n      <th>block__instr_resp.rt</th>\n      <th>block__instr_resp.started</th>\n      <th>block__instr_resp.stopped</th>\n      <th>block_instr_voice.started</th>\n      <th>block_instr_voice.stopped</th>\n      <th>text.started</th>\n      <th>text.stopped</th>\n      <th>ISI.started</th>\n      <th>ISI.stopped</th>\n      <th>ISI_instr.started</th>\n      <th>ISI_instr.stopped</th>\n      <th>face_stim.started</th>\n      <th>face_stim.stopped</th>\n      <th>trial_resp.keys</th>\n      <th>trial_resp.rt</th>\n      <th>trial_resp.started</th>\n      <th>trial_resp.stopped</th>\n      <th>LookerSex</th>\n      <th>Condition</th>\n      <th>expIndex</th>\n      <th>exp_end_text.started</th>\n      <th>exp_end_text.stopped</th>\n      <th>participant</th>\n      <th>sex</th>\n      <th>Sehtest</th>\n      <th>date</th>\n      <th>expName</th>\n      <th>psychopyVersion</th>\n      <th>frameRate</th>\n      <th>Unnamed: 80</th>\n      <th>subject_id</th>\n    </tr>\n  </thead>\n  <tbody>\n    <tr>\n      <th>0</th>\n      <td>1</td>\n      <td>NaN</td>\n      <td>NaN</td>\n      <td>NaN</td>\n      <td>NaN</td>\n      <td>NaN</td>\n      <td>NaN</td>\n      <td>NaN</td>\n      <td>NaN</td>\n      <td>NaN</td>\n      <td>NaN</td>\n      <td>NaN</td>\n      <td>NaN</td>\n      <td>NaN</td>\n      <td>NaN</td>\n      <td>NaN</td>\n      <td>NaN</td>\n      <td>NaN</td>\n      <td>NaN</td>\n      <td>72.327483</td>\n      <td>None</td>\n      <td>107.333079</td>\n      <td>None</td>\n      <td>109.298819</td>\n      <td>None</td>\n      <td>space</td>\n      <td>0.350159</td>\n      <td>111.281467</td>\n      <td>None</td>\n      <td>NaN</td>\n      <td>NaN</td>\n      <td>NaN</td>\n      <td>NaN</td>\n      <td>NaN</td>\n      <td>NaN</td>\n      <td>NaN</td>\n      <td>NaN</td>\n      <td>NaN</td>\n      <td>NaN</td>\n      <td>NaN</td>\n      <td>NaN</td>\n      <td>NaN</td>\n      <td>NaN</td>\n      <td>NaN</td>\n      <td>NaN</td>\n      <td>NaN</td>\n      <td>NaN</td>\n      <td>NaN</td>\n      <td>NaN</td>\n      <td>NaN</td>\n      <td>NaN</td>\n      <td>NaN</td>\n      <td>NaN</td>\n      <td>NaN</td>\n      <td>NaN</td>\n      <td>NaN</td>\n      <td>NaN</td>\n      <td>NaN</td>\n      <td>NaN</td>\n      <td>NaN</td>\n      <td>NaN</td>\n      <td>NaN</td>\n      <td>NaN</td>\n      <td>NaN</td>\n      <td>NaN</td>\n      <td>NaN</td>\n      <td>NaN</td>\n      <td>NaN</td>\n      <td>NaN</td>\n      <td>NaN</td>\n      <td>NaN</td>\n      <td>NaN</td>\n      <td>NaN</td>\n      <td>NaN</td>\n      <td>0.0</td>\n      <td>w</td>\n      <td>1.0</td>\n      <td>2022-07-01_18h26.16.888</td>\n      <td>Gaze_Judgment_FINAL</td>\n      <td>2022.1.2</td>\n      <td>60.027536</td>\n      <td>NaN</td>\n      <td>S1</td>\n    </tr>\n    <tr>\n      <th>1</th>\n      <td>2</td>\n      <td>0.0</td>\n      <td>0.0</td>\n      <td>0.0</td>\n      <td>0.0</td>\n      <td>NaN</td>\n      <td>NaN</td>\n      <td>NaN</td>\n      <td>NaN</td>\n      <td>NaN</td>\n      <td>NaN</td>\n      <td>NaN</td>\n      <td>NaN</td>\n      <td>NaN</td>\n      <td>NaN</td>\n      <td>NaN</td>\n      <td>NaN</td>\n      <td>NaN</td>\n      <td>NaN</td>\n      <td>NaN</td>\n      <td>NaN</td>\n      <td>NaN</td>\n      <td>NaN</td>\n      <td>NaN</td>\n      <td>NaN</td>\n      <td>NaN</td>\n      <td>NaN</td>\n      <td>NaN</td>\n      <td>NaN</td>\n      <td>0.014754</td>\n      <td>1.014754</td>\n      <td>112.627408</td>\n      <td>None</td>\n      <td>right</td>\n      <td>2.123082</td>\n      <td>112.627408</td>\n      <td>None</td>\n      <td>-30.0</td>\n      <td>30.0</td>\n      <td>Projekt/Stimuli/training/m</td>\n      <td>/home/krusty/Documents/Empra_Projekt/Stimuli/t...</td>\n      <td>1.0</td>\n      <td>0.0</td>\n      <td>NaN</td>\n      <td>NaN</td>\n      <td>NaN</td>\n      <td>NaN</td>\n      <td>NaN</td>\n      <td>NaN</td>\n      <td>NaN</td>\n      <td>NaN</td>\n      <td>NaN</td>\n      <td>NaN</td>\n      <td>NaN</td>\n      <td>NaN</td>\n      <td>NaN</td>\n      <td>NaN</td>\n      <td>NaN</td>\n      <td>NaN</td>\n      <td>NaN</td>\n      <td>NaN</td>\n      <td>NaN</td>\n      <td>NaN</td>\n      <td>NaN</td>\n      <td>NaN</td>\n      <td>NaN</td>\n      <td>NaN</td>\n      <td>NaN</td>\n      <td>NaN</td>\n      <td>NaN</td>\n      <td>NaN</td>\n      <td>NaN</td>\n      <td>NaN</td>\n      <td>NaN</td>\n      <td>0.0</td>\n      <td>w</td>\n      <td>1.0</td>\n      <td>2022-07-01_18h26.16.888</td>\n      <td>Gaze_Judgment_FINAL</td>\n      <td>2022.1.2</td>\n      <td>60.027536</td>\n      <td>NaN</td>\n      <td>S1</td>\n    </tr>\n    <tr>\n      <th>2</th>\n      <td>3</td>\n      <td>1.0</td>\n      <td>0.0</td>\n      <td>1.0</td>\n      <td>0.0</td>\n      <td>NaN</td>\n      <td>NaN</td>\n      <td>NaN</td>\n      <td>NaN</td>\n      <td>NaN</td>\n      <td>NaN</td>\n      <td>NaN</td>\n      <td>NaN</td>\n      <td>NaN</td>\n      <td>NaN</td>\n      <td>NaN</td>\n      <td>NaN</td>\n      <td>NaN</td>\n      <td>NaN</td>\n      <td>NaN</td>\n      <td>NaN</td>\n      <td>NaN</td>\n      <td>NaN</td>\n      <td>NaN</td>\n      <td>NaN</td>\n      <td>NaN</td>\n      <td>NaN</td>\n      <td>NaN</td>\n      <td>NaN</td>\n      <td>0.014691</td>\n      <td>1.014691</td>\n      <td>115.745584</td>\n      <td>None</td>\n      <td>right</td>\n      <td>0.737547</td>\n      <td>115.745584</td>\n      <td>None</td>\n      <td>-30.0</td>\n      <td>30.0</td>\n      <td>Projekt/Stimuli/training/f</td>\n      <td>/home/krusty/Documents/Empra_Projekt/Stimuli/t...</td>\n      <td>1.0</td>\n      <td>1.0</td>\n      <td>NaN</td>\n      <td>NaN</td>\n      <td>NaN</td>\n      <td>NaN</td>\n      <td>NaN</td>\n      <td>NaN</td>\n      <td>NaN</td>\n      <td>NaN</td>\n      <td>NaN</td>\n      <td>NaN</td>\n      <td>NaN</td>\n      <td>NaN</td>\n      <td>NaN</td>\n      <td>NaN</td>\n      <td>NaN</td>\n      <td>NaN</td>\n      <td>NaN</td>\n      <td>NaN</td>\n      <td>NaN</td>\n      <td>NaN</td>\n      <td>NaN</td>\n      <td>NaN</td>\n      <td>NaN</td>\n      <td>NaN</td>\n      <td>NaN</td>\n      <td>NaN</td>\n      <td>NaN</td>\n      <td>NaN</td>\n      <td>NaN</td>\n      <td>NaN</td>\n      <td>NaN</td>\n      <td>0.0</td>\n      <td>w</td>\n      <td>1.0</td>\n      <td>2022-07-01_18h26.16.888</td>\n      <td>Gaze_Judgment_FINAL</td>\n      <td>2022.1.2</td>\n      <td>60.027536</td>\n      <td>NaN</td>\n      <td>S1</td>\n    </tr>\n    <tr>\n      <th>3</th>\n      <td>4</td>\n      <td>2.0</td>\n      <td>0.0</td>\n      <td>2.0</td>\n      <td>0.0</td>\n      <td>NaN</td>\n      <td>NaN</td>\n      <td>NaN</td>\n      <td>NaN</td>\n      <td>NaN</td>\n      <td>NaN</td>\n      <td>NaN</td>\n      <td>NaN</td>\n      <td>NaN</td>\n      <td>NaN</td>\n      <td>NaN</td>\n      <td>NaN</td>\n      <td>NaN</td>\n      <td>NaN</td>\n      <td>NaN</td>\n      <td>NaN</td>\n      <td>NaN</td>\n      <td>NaN</td>\n      <td>NaN</td>\n      <td>NaN</td>\n      <td>NaN</td>\n      <td>NaN</td>\n      <td>NaN</td>\n      <td>NaN</td>\n      <td>0.015140</td>\n      <td>1.015140</td>\n      <td>117.478076</td>\n      <td>None</td>\n      <td>down</td>\n      <td>0.921077</td>\n      <td>117.478076</td>\n      <td>None</td>\n      <td>0.0</td>\n      <td>0.0</td>\n      <td>Projekt/Stimuli/training/f</td>\n      <td>/home/krusty/Documents/Empra_Projekt/Stimuli/t...</td>\n      <td>1.0</td>\n      <td>2.0</td>\n      <td>NaN</td>\n      <td>NaN</td>\n      <td>NaN</td>\n      <td>NaN</td>\n      <td>NaN</td>\n      <td>NaN</td>\n      <td>NaN</td>\n      <td>NaN</td>\n      <td>NaN</td>\n      <td>NaN</td>\n      <td>NaN</td>\n      <td>NaN</td>\n      <td>NaN</td>\n      <td>NaN</td>\n      <td>NaN</td>\n      <td>NaN</td>\n      <td>NaN</td>\n      <td>NaN</td>\n      <td>NaN</td>\n      <td>NaN</td>\n      <td>NaN</td>\n      <td>NaN</td>\n      <td>NaN</td>\n      <td>NaN</td>\n      <td>NaN</td>\n      <td>NaN</td>\n      <td>NaN</td>\n      <td>NaN</td>\n      <td>NaN</td>\n      <td>NaN</td>\n      <td>NaN</td>\n      <td>0.0</td>\n      <td>w</td>\n      <td>1.0</td>\n      <td>2022-07-01_18h26.16.888</td>\n      <td>Gaze_Judgment_FINAL</td>\n      <td>2022.1.2</td>\n      <td>60.027536</td>\n      <td>NaN</td>\n      <td>S1</td>\n    </tr>\n    <tr>\n      <th>4</th>\n      <td>5</td>\n      <td>3.0</td>\n      <td>0.0</td>\n      <td>3.0</td>\n      <td>0.0</td>\n      <td>NaN</td>\n      <td>NaN</td>\n      <td>NaN</td>\n      <td>NaN</td>\n      <td>NaN</td>\n      <td>NaN</td>\n      <td>NaN</td>\n      <td>NaN</td>\n      <td>NaN</td>\n      <td>NaN</td>\n      <td>NaN</td>\n      <td>NaN</td>\n      <td>NaN</td>\n      <td>NaN</td>\n      <td>NaN</td>\n      <td>NaN</td>\n      <td>NaN</td>\n      <td>NaN</td>\n      <td>NaN</td>\n      <td>NaN</td>\n      <td>NaN</td>\n      <td>NaN</td>\n      <td>NaN</td>\n      <td>NaN</td>\n      <td>0.015166</td>\n      <td>1.015166</td>\n      <td>119.394031</td>\n      <td>None</td>\n      <td>down</td>\n      <td>0.621185</td>\n      <td>119.394031</td>\n      <td>None</td>\n      <td>0.0</td>\n      <td>0.0</td>\n      <td>Projekt/Stimuli/training/m</td>\n      <td>/home/krusty/Documents/Empra_Projekt/Stimuli/t...</td>\n      <td>1.0</td>\n      <td>3.0</td>\n      <td>NaN</td>\n      <td>NaN</td>\n      <td>NaN</td>\n      <td>NaN</td>\n      <td>NaN</td>\n      <td>NaN</td>\n      <td>NaN</td>\n      <td>NaN</td>\n      <td>NaN</td>\n      <td>NaN</td>\n      <td>NaN</td>\n      <td>NaN</td>\n      <td>NaN</td>\n      <td>NaN</td>\n      <td>NaN</td>\n      <td>NaN</td>\n      <td>NaN</td>\n      <td>NaN</td>\n      <td>NaN</td>\n      <td>NaN</td>\n      <td>NaN</td>\n      <td>NaN</td>\n      <td>NaN</td>\n      <td>NaN</td>\n      <td>NaN</td>\n      <td>NaN</td>\n      <td>NaN</td>\n      <td>NaN</td>\n      <td>NaN</td>\n      <td>NaN</td>\n      <td>NaN</td>\n      <td>0.0</td>\n      <td>w</td>\n      <td>1.0</td>\n      <td>2022-07-01_18h26.16.888</td>\n      <td>Gaze_Judgment_FINAL</td>\n      <td>2022.1.2</td>\n      <td>60.027536</td>\n      <td>NaN</td>\n      <td>S1</td>\n    </tr>\n  </tbody>\n</table>\n</div>"
     },
     "execution_count": 10,
     "metadata": {},
     "output_type": "execute_result"
    }
   ],
   "source": [
    "df_complete.head()"
   ],
   "metadata": {
    "collapsed": false,
    "pycharm": {
     "name": "#%%\n"
    }
   }
  },
  {
   "cell_type": "code",
   "execution_count": 11,
   "outputs": [
    {
     "data": {
      "text/plain": "48"
     },
     "execution_count": 11,
     "metadata": {},
     "output_type": "execute_result"
    }
   ],
   "source": [
    "len(df_complete[\"subject_id\"].unique())"
   ],
   "metadata": {
    "collapsed": false,
    "pycharm": {
     "name": "#%%\n"
    }
   }
  },
  {
   "cell_type": "code",
   "execution_count": 13,
   "outputs": [
    {
     "data": {
      "text/plain": "   index  training_trials.thisRepN  training_trials.thisTrialN  \\\n0      1                       NaN                         NaN   \n1      2                       0.0                         0.0   \n2      3                       1.0                         0.0   \n3      4                       2.0                         0.0   \n4      5                       3.0                         0.0   \n\n   training_trials.thisN  training_trials.thisIndex  blocks.thisRepN  \\\n0                    NaN                        NaN              NaN   \n1                    0.0                        0.0              NaN   \n2                    1.0                        0.0              NaN   \n3                    2.0                        0.0              NaN   \n4                    3.0                        0.0              NaN   \n\n   blocks.thisTrialN  blocks.thisN  blocks.thisIndex  trials.thisRepN  \\\n0                NaN           NaN               NaN              NaN   \n1                NaN           NaN               NaN              NaN   \n2                NaN           NaN               NaN              NaN   \n3                NaN           NaN               NaN              NaN   \n4                NaN           NaN               NaN              NaN   \n\n   trials.thisTrialN  trials.thisN  trials.thisIndex  exp_instr_text.started  \\\n0                NaN           NaN               NaN                     NaN   \n1                NaN           NaN               NaN                     NaN   \n2                NaN           NaN               NaN                     NaN   \n3                NaN           NaN               NaN                     NaN   \n4                NaN           NaN               NaN                     NaN   \n\n  exp_instr_text.stopped exp_instr_resp.keys  exp_instr_resp.rt  \\\n0                    NaN                 NaN                NaN   \n1                    NaN                 NaN                NaN   \n2                    NaN                 NaN                NaN   \n3                    NaN                 NaN                NaN   \n4                    NaN                 NaN                NaN   \n\n   exp_instr_resp.started exp_instr_resp.stopped  instruktionen_audio.started  \\\n0                     NaN                    NaN                    72.327483   \n1                     NaN                    NaN                          NaN   \n2                     NaN                    NaN                          NaN   \n3                     NaN                    NaN                          NaN   \n4                     NaN                    NaN                          NaN   \n\n  instruktionen_audio.stopped  press_space.started press_space.stopped  \\\n0                        None           107.333079                None   \n1                         NaN                  NaN                 NaN   \n2                         NaN                  NaN                 NaN   \n3                         NaN                  NaN                 NaN   \n4                         NaN                  NaN                 NaN   \n\n   train_instr_text.started train_instr_text.stopped train_resp.keys  \\\n0                109.298819                     None           space   \n1                       NaN                      NaN             NaN   \n2                       NaN                      NaN             NaN   \n3                       NaN                      NaN             NaN   \n4                       NaN                      NaN             NaN   \n\n   train_resp.rt  train_resp.started train_resp.stopped  ISI_training.started  \\\n0       0.350159          111.281467               None                   NaN   \n1            NaN                 NaN                NaN              0.014754   \n2            NaN                 NaN                NaN              0.014691   \n3            NaN                 NaN                NaN              0.015140   \n4            NaN                 NaN                NaN              0.015166   \n\n   ISI_training.stopped  face_stim_training.started  \\\n0                   NaN                         NaN   \n1              1.014754                  112.627408   \n2              1.014691                  115.745584   \n3              1.015140                  117.478076   \n4              1.015166                  119.394031   \n\n  face_stim_training.stopped training_rest.keys  training_rest.rt  \\\n0                        NaN                NaN               NaN   \n1                       None              right          2.123082   \n2                       None              right          0.737547   \n3                       None               down          0.921077   \n4                       None               down          0.621185   \n\n   training_rest.started training_rest.stopped  Grad  Grad_abs  \\\n0                    NaN                   NaN   NaN       NaN   \n1             112.627408                  None -30.0      30.0   \n2             115.745584                  None -30.0      30.0   \n3             117.478076                  None   0.0       0.0   \n4             119.394031                  None   0.0       0.0   \n\n                       Looker  \\\n0                         NaN   \n1  Projekt/Stimuli/training/m   \n2  Projekt/Stimuli/training/f   \n3  Projekt/Stimuli/training/f   \n4  Projekt/Stimuli/training/m   \n\n                                           Stim_path  Training  trainIndex  \\\n0                                                NaN       NaN         NaN   \n1  /home/krusty/Documents/Empra_Projekt/Stimuli/t...       1.0         0.0   \n2  /home/krusty/Documents/Empra_Projekt/Stimuli/t...       1.0         1.0   \n3  /home/krusty/Documents/Empra_Projekt/Stimuli/t...       1.0         2.0   \n4  /home/krusty/Documents/Empra_Projekt/Stimuli/t...       1.0         3.0   \n\n   train_exp_text.started train_exp_text.stopped train_exp_resp.keys  \\\n0                     NaN                    NaN                 NaN   \n1                     NaN                    NaN                 NaN   \n2                     NaN                    NaN                 NaN   \n3                     NaN                    NaN                 NaN   \n4                     NaN                    NaN                 NaN   \n\n   train_exp_resp.rt  train_exp_resp.started train_exp_resp.stopped  \\\n0                NaN                     NaN                    NaN   \n1                NaN                     NaN                    NaN   \n2                NaN                     NaN                    NaN   \n3                NaN                     NaN                    NaN   \n4                NaN                     NaN                    NaN   \n\n   block_instr_text.started block_instr_text.stopped block__instr_resp.keys  \\\n0                       NaN                      NaN                    NaN   \n1                       NaN                      NaN                    NaN   \n2                       NaN                      NaN                    NaN   \n3                       NaN                      NaN                    NaN   \n4                       NaN                      NaN                    NaN   \n\n   block__instr_resp.rt  block__instr_resp.started block__instr_resp.stopped  \\\n0                   NaN                        NaN                       NaN   \n1                   NaN                        NaN                       NaN   \n2                   NaN                        NaN                       NaN   \n3                   NaN                        NaN                       NaN   \n4                   NaN                        NaN                       NaN   \n\n   block_instr_voice.started block_instr_voice.stopped  text.started  \\\n0                        NaN                       NaN           NaN   \n1                        NaN                       NaN           NaN   \n2                        NaN                       NaN           NaN   \n3                        NaN                       NaN           NaN   \n4                        NaN                       NaN           NaN   \n\n  text.stopped  ISI.started  ISI.stopped  ISI_instr.started ISI_instr.stopped  \\\n0          NaN          NaN          NaN                NaN               NaN   \n1          NaN          NaN          NaN                NaN               NaN   \n2          NaN          NaN          NaN                NaN               NaN   \n3          NaN          NaN          NaN                NaN               NaN   \n4          NaN          NaN          NaN                NaN               NaN   \n\n   face_stim.started face_stim.stopped  trial_resp.keys  trial_resp.rt  \\\n0                NaN               NaN              NaN            NaN   \n1                NaN               NaN              NaN            NaN   \n2                NaN               NaN              NaN            NaN   \n3                NaN               NaN              NaN            NaN   \n4                NaN               NaN              NaN            NaN   \n\n   trial_resp.started trial_resp.stopped LookerSex Condition  expIndex  \\\n0                 NaN                NaN       NaN       NaN       NaN   \n1                 NaN                NaN       NaN       NaN       NaN   \n2                 NaN                NaN       NaN       NaN       NaN   \n3                 NaN                NaN       NaN       NaN       NaN   \n4                 NaN                NaN       NaN       NaN       NaN   \n\n   exp_end_text.started exp_end_text.stopped  participant sex  Sehtest  \\\n0                   NaN                  NaN          0.0   w      1.0   \n1                   NaN                  NaN          0.0   w      1.0   \n2                   NaN                  NaN          0.0   w      1.0   \n3                   NaN                  NaN          0.0   w      1.0   \n4                   NaN                  NaN          0.0   w      1.0   \n\n                      date              expName psychopyVersion  frameRate  \\\n0  2022-07-01_18h26.16.888  Gaze_Judgment_FINAL        2022.1.2  60.027536   \n1  2022-07-01_18h26.16.888  Gaze_Judgment_FINAL        2022.1.2  60.027536   \n2  2022-07-01_18h26.16.888  Gaze_Judgment_FINAL        2022.1.2  60.027536   \n3  2022-07-01_18h26.16.888  Gaze_Judgment_FINAL        2022.1.2  60.027536   \n4  2022-07-01_18h26.16.888  Gaze_Judgment_FINAL        2022.1.2  60.027536   \n\n  subject_id  \n0         S1  \n1         S1  \n2         S1  \n3         S1  \n4         S1  ",
      "text/html": "<div>\n<style scoped>\n    .dataframe tbody tr th:only-of-type {\n        vertical-align: middle;\n    }\n\n    .dataframe tbody tr th {\n        vertical-align: top;\n    }\n\n    .dataframe thead th {\n        text-align: right;\n    }\n</style>\n<table border=\"1\" class=\"dataframe\">\n  <thead>\n    <tr style=\"text-align: right;\">\n      <th></th>\n      <th>index</th>\n      <th>training_trials.thisRepN</th>\n      <th>training_trials.thisTrialN</th>\n      <th>training_trials.thisN</th>\n      <th>training_trials.thisIndex</th>\n      <th>blocks.thisRepN</th>\n      <th>blocks.thisTrialN</th>\n      <th>blocks.thisN</th>\n      <th>blocks.thisIndex</th>\n      <th>trials.thisRepN</th>\n      <th>trials.thisTrialN</th>\n      <th>trials.thisN</th>\n      <th>trials.thisIndex</th>\n      <th>exp_instr_text.started</th>\n      <th>exp_instr_text.stopped</th>\n      <th>exp_instr_resp.keys</th>\n      <th>exp_instr_resp.rt</th>\n      <th>exp_instr_resp.started</th>\n      <th>exp_instr_resp.stopped</th>\n      <th>instruktionen_audio.started</th>\n      <th>instruktionen_audio.stopped</th>\n      <th>press_space.started</th>\n      <th>press_space.stopped</th>\n      <th>train_instr_text.started</th>\n      <th>train_instr_text.stopped</th>\n      <th>train_resp.keys</th>\n      <th>train_resp.rt</th>\n      <th>train_resp.started</th>\n      <th>train_resp.stopped</th>\n      <th>ISI_training.started</th>\n      <th>ISI_training.stopped</th>\n      <th>face_stim_training.started</th>\n      <th>face_stim_training.stopped</th>\n      <th>training_rest.keys</th>\n      <th>training_rest.rt</th>\n      <th>training_rest.started</th>\n      <th>training_rest.stopped</th>\n      <th>Grad</th>\n      <th>Grad_abs</th>\n      <th>Looker</th>\n      <th>Stim_path</th>\n      <th>Training</th>\n      <th>trainIndex</th>\n      <th>train_exp_text.started</th>\n      <th>train_exp_text.stopped</th>\n      <th>train_exp_resp.keys</th>\n      <th>train_exp_resp.rt</th>\n      <th>train_exp_resp.started</th>\n      <th>train_exp_resp.stopped</th>\n      <th>block_instr_text.started</th>\n      <th>block_instr_text.stopped</th>\n      <th>block__instr_resp.keys</th>\n      <th>block__instr_resp.rt</th>\n      <th>block__instr_resp.started</th>\n      <th>block__instr_resp.stopped</th>\n      <th>block_instr_voice.started</th>\n      <th>block_instr_voice.stopped</th>\n      <th>text.started</th>\n      <th>text.stopped</th>\n      <th>ISI.started</th>\n      <th>ISI.stopped</th>\n      <th>ISI_instr.started</th>\n      <th>ISI_instr.stopped</th>\n      <th>face_stim.started</th>\n      <th>face_stim.stopped</th>\n      <th>trial_resp.keys</th>\n      <th>trial_resp.rt</th>\n      <th>trial_resp.started</th>\n      <th>trial_resp.stopped</th>\n      <th>LookerSex</th>\n      <th>Condition</th>\n      <th>expIndex</th>\n      <th>exp_end_text.started</th>\n      <th>exp_end_text.stopped</th>\n      <th>participant</th>\n      <th>sex</th>\n      <th>Sehtest</th>\n      <th>date</th>\n      <th>expName</th>\n      <th>psychopyVersion</th>\n      <th>frameRate</th>\n      <th>subject_id</th>\n    </tr>\n  </thead>\n  <tbody>\n    <tr>\n      <th>0</th>\n      <td>1</td>\n      <td>NaN</td>\n      <td>NaN</td>\n      <td>NaN</td>\n      <td>NaN</td>\n      <td>NaN</td>\n      <td>NaN</td>\n      <td>NaN</td>\n      <td>NaN</td>\n      <td>NaN</td>\n      <td>NaN</td>\n      <td>NaN</td>\n      <td>NaN</td>\n      <td>NaN</td>\n      <td>NaN</td>\n      <td>NaN</td>\n      <td>NaN</td>\n      <td>NaN</td>\n      <td>NaN</td>\n      <td>72.327483</td>\n      <td>None</td>\n      <td>107.333079</td>\n      <td>None</td>\n      <td>109.298819</td>\n      <td>None</td>\n      <td>space</td>\n      <td>0.350159</td>\n      <td>111.281467</td>\n      <td>None</td>\n      <td>NaN</td>\n      <td>NaN</td>\n      <td>NaN</td>\n      <td>NaN</td>\n      <td>NaN</td>\n      <td>NaN</td>\n      <td>NaN</td>\n      <td>NaN</td>\n      <td>NaN</td>\n      <td>NaN</td>\n      <td>NaN</td>\n      <td>NaN</td>\n      <td>NaN</td>\n      <td>NaN</td>\n      <td>NaN</td>\n      <td>NaN</td>\n      <td>NaN</td>\n      <td>NaN</td>\n      <td>NaN</td>\n      <td>NaN</td>\n      <td>NaN</td>\n      <td>NaN</td>\n      <td>NaN</td>\n      <td>NaN</td>\n      <td>NaN</td>\n      <td>NaN</td>\n      <td>NaN</td>\n      <td>NaN</td>\n      <td>NaN</td>\n      <td>NaN</td>\n      <td>NaN</td>\n      <td>NaN</td>\n      <td>NaN</td>\n      <td>NaN</td>\n      <td>NaN</td>\n      <td>NaN</td>\n      <td>NaN</td>\n      <td>NaN</td>\n      <td>NaN</td>\n      <td>NaN</td>\n      <td>NaN</td>\n      <td>NaN</td>\n      <td>NaN</td>\n      <td>NaN</td>\n      <td>NaN</td>\n      <td>0.0</td>\n      <td>w</td>\n      <td>1.0</td>\n      <td>2022-07-01_18h26.16.888</td>\n      <td>Gaze_Judgment_FINAL</td>\n      <td>2022.1.2</td>\n      <td>60.027536</td>\n      <td>S1</td>\n    </tr>\n    <tr>\n      <th>1</th>\n      <td>2</td>\n      <td>0.0</td>\n      <td>0.0</td>\n      <td>0.0</td>\n      <td>0.0</td>\n      <td>NaN</td>\n      <td>NaN</td>\n      <td>NaN</td>\n      <td>NaN</td>\n      <td>NaN</td>\n      <td>NaN</td>\n      <td>NaN</td>\n      <td>NaN</td>\n      <td>NaN</td>\n      <td>NaN</td>\n      <td>NaN</td>\n      <td>NaN</td>\n      <td>NaN</td>\n      <td>NaN</td>\n      <td>NaN</td>\n      <td>NaN</td>\n      <td>NaN</td>\n      <td>NaN</td>\n      <td>NaN</td>\n      <td>NaN</td>\n      <td>NaN</td>\n      <td>NaN</td>\n      <td>NaN</td>\n      <td>NaN</td>\n      <td>0.014754</td>\n      <td>1.014754</td>\n      <td>112.627408</td>\n      <td>None</td>\n      <td>right</td>\n      <td>2.123082</td>\n      <td>112.627408</td>\n      <td>None</td>\n      <td>-30.0</td>\n      <td>30.0</td>\n      <td>Projekt/Stimuli/training/m</td>\n      <td>/home/krusty/Documents/Empra_Projekt/Stimuli/t...</td>\n      <td>1.0</td>\n      <td>0.0</td>\n      <td>NaN</td>\n      <td>NaN</td>\n      <td>NaN</td>\n      <td>NaN</td>\n      <td>NaN</td>\n      <td>NaN</td>\n      <td>NaN</td>\n      <td>NaN</td>\n      <td>NaN</td>\n      <td>NaN</td>\n      <td>NaN</td>\n      <td>NaN</td>\n      <td>NaN</td>\n      <td>NaN</td>\n      <td>NaN</td>\n      <td>NaN</td>\n      <td>NaN</td>\n      <td>NaN</td>\n      <td>NaN</td>\n      <td>NaN</td>\n      <td>NaN</td>\n      <td>NaN</td>\n      <td>NaN</td>\n      <td>NaN</td>\n      <td>NaN</td>\n      <td>NaN</td>\n      <td>NaN</td>\n      <td>NaN</td>\n      <td>NaN</td>\n      <td>NaN</td>\n      <td>NaN</td>\n      <td>0.0</td>\n      <td>w</td>\n      <td>1.0</td>\n      <td>2022-07-01_18h26.16.888</td>\n      <td>Gaze_Judgment_FINAL</td>\n      <td>2022.1.2</td>\n      <td>60.027536</td>\n      <td>S1</td>\n    </tr>\n    <tr>\n      <th>2</th>\n      <td>3</td>\n      <td>1.0</td>\n      <td>0.0</td>\n      <td>1.0</td>\n      <td>0.0</td>\n      <td>NaN</td>\n      <td>NaN</td>\n      <td>NaN</td>\n      <td>NaN</td>\n      <td>NaN</td>\n      <td>NaN</td>\n      <td>NaN</td>\n      <td>NaN</td>\n      <td>NaN</td>\n      <td>NaN</td>\n      <td>NaN</td>\n      <td>NaN</td>\n      <td>NaN</td>\n      <td>NaN</td>\n      <td>NaN</td>\n      <td>NaN</td>\n      <td>NaN</td>\n      <td>NaN</td>\n      <td>NaN</td>\n      <td>NaN</td>\n      <td>NaN</td>\n      <td>NaN</td>\n      <td>NaN</td>\n      <td>NaN</td>\n      <td>0.014691</td>\n      <td>1.014691</td>\n      <td>115.745584</td>\n      <td>None</td>\n      <td>right</td>\n      <td>0.737547</td>\n      <td>115.745584</td>\n      <td>None</td>\n      <td>-30.0</td>\n      <td>30.0</td>\n      <td>Projekt/Stimuli/training/f</td>\n      <td>/home/krusty/Documents/Empra_Projekt/Stimuli/t...</td>\n      <td>1.0</td>\n      <td>1.0</td>\n      <td>NaN</td>\n      <td>NaN</td>\n      <td>NaN</td>\n      <td>NaN</td>\n      <td>NaN</td>\n      <td>NaN</td>\n      <td>NaN</td>\n      <td>NaN</td>\n      <td>NaN</td>\n      <td>NaN</td>\n      <td>NaN</td>\n      <td>NaN</td>\n      <td>NaN</td>\n      <td>NaN</td>\n      <td>NaN</td>\n      <td>NaN</td>\n      <td>NaN</td>\n      <td>NaN</td>\n      <td>NaN</td>\n      <td>NaN</td>\n      <td>NaN</td>\n      <td>NaN</td>\n      <td>NaN</td>\n      <td>NaN</td>\n      <td>NaN</td>\n      <td>NaN</td>\n      <td>NaN</td>\n      <td>NaN</td>\n      <td>NaN</td>\n      <td>NaN</td>\n      <td>NaN</td>\n      <td>0.0</td>\n      <td>w</td>\n      <td>1.0</td>\n      <td>2022-07-01_18h26.16.888</td>\n      <td>Gaze_Judgment_FINAL</td>\n      <td>2022.1.2</td>\n      <td>60.027536</td>\n      <td>S1</td>\n    </tr>\n    <tr>\n      <th>3</th>\n      <td>4</td>\n      <td>2.0</td>\n      <td>0.0</td>\n      <td>2.0</td>\n      <td>0.0</td>\n      <td>NaN</td>\n      <td>NaN</td>\n      <td>NaN</td>\n      <td>NaN</td>\n      <td>NaN</td>\n      <td>NaN</td>\n      <td>NaN</td>\n      <td>NaN</td>\n      <td>NaN</td>\n      <td>NaN</td>\n      <td>NaN</td>\n      <td>NaN</td>\n      <td>NaN</td>\n      <td>NaN</td>\n      <td>NaN</td>\n      <td>NaN</td>\n      <td>NaN</td>\n      <td>NaN</td>\n      <td>NaN</td>\n      <td>NaN</td>\n      <td>NaN</td>\n      <td>NaN</td>\n      <td>NaN</td>\n      <td>NaN</td>\n      <td>0.015140</td>\n      <td>1.015140</td>\n      <td>117.478076</td>\n      <td>None</td>\n      <td>down</td>\n      <td>0.921077</td>\n      <td>117.478076</td>\n      <td>None</td>\n      <td>0.0</td>\n      <td>0.0</td>\n      <td>Projekt/Stimuli/training/f</td>\n      <td>/home/krusty/Documents/Empra_Projekt/Stimuli/t...</td>\n      <td>1.0</td>\n      <td>2.0</td>\n      <td>NaN</td>\n      <td>NaN</td>\n      <td>NaN</td>\n      <td>NaN</td>\n      <td>NaN</td>\n      <td>NaN</td>\n      <td>NaN</td>\n      <td>NaN</td>\n      <td>NaN</td>\n      <td>NaN</td>\n      <td>NaN</td>\n      <td>NaN</td>\n      <td>NaN</td>\n      <td>NaN</td>\n      <td>NaN</td>\n      <td>NaN</td>\n      <td>NaN</td>\n      <td>NaN</td>\n      <td>NaN</td>\n      <td>NaN</td>\n      <td>NaN</td>\n      <td>NaN</td>\n      <td>NaN</td>\n      <td>NaN</td>\n      <td>NaN</td>\n      <td>NaN</td>\n      <td>NaN</td>\n      <td>NaN</td>\n      <td>NaN</td>\n      <td>NaN</td>\n      <td>NaN</td>\n      <td>0.0</td>\n      <td>w</td>\n      <td>1.0</td>\n      <td>2022-07-01_18h26.16.888</td>\n      <td>Gaze_Judgment_FINAL</td>\n      <td>2022.1.2</td>\n      <td>60.027536</td>\n      <td>S1</td>\n    </tr>\n    <tr>\n      <th>4</th>\n      <td>5</td>\n      <td>3.0</td>\n      <td>0.0</td>\n      <td>3.0</td>\n      <td>0.0</td>\n      <td>NaN</td>\n      <td>NaN</td>\n      <td>NaN</td>\n      <td>NaN</td>\n      <td>NaN</td>\n      <td>NaN</td>\n      <td>NaN</td>\n      <td>NaN</td>\n      <td>NaN</td>\n      <td>NaN</td>\n      <td>NaN</td>\n      <td>NaN</td>\n      <td>NaN</td>\n      <td>NaN</td>\n      <td>NaN</td>\n      <td>NaN</td>\n      <td>NaN</td>\n      <td>NaN</td>\n      <td>NaN</td>\n      <td>NaN</td>\n      <td>NaN</td>\n      <td>NaN</td>\n      <td>NaN</td>\n      <td>NaN</td>\n      <td>0.015166</td>\n      <td>1.015166</td>\n      <td>119.394031</td>\n      <td>None</td>\n      <td>down</td>\n      <td>0.621185</td>\n      <td>119.394031</td>\n      <td>None</td>\n      <td>0.0</td>\n      <td>0.0</td>\n      <td>Projekt/Stimuli/training/m</td>\n      <td>/home/krusty/Documents/Empra_Projekt/Stimuli/t...</td>\n      <td>1.0</td>\n      <td>3.0</td>\n      <td>NaN</td>\n      <td>NaN</td>\n      <td>NaN</td>\n      <td>NaN</td>\n      <td>NaN</td>\n      <td>NaN</td>\n      <td>NaN</td>\n      <td>NaN</td>\n      <td>NaN</td>\n      <td>NaN</td>\n      <td>NaN</td>\n      <td>NaN</td>\n      <td>NaN</td>\n      <td>NaN</td>\n      <td>NaN</td>\n      <td>NaN</td>\n      <td>NaN</td>\n      <td>NaN</td>\n      <td>NaN</td>\n      <td>NaN</td>\n      <td>NaN</td>\n      <td>NaN</td>\n      <td>NaN</td>\n      <td>NaN</td>\n      <td>NaN</td>\n      <td>NaN</td>\n      <td>NaN</td>\n      <td>NaN</td>\n      <td>NaN</td>\n      <td>NaN</td>\n      <td>NaN</td>\n      <td>0.0</td>\n      <td>w</td>\n      <td>1.0</td>\n      <td>2022-07-01_18h26.16.888</td>\n      <td>Gaze_Judgment_FINAL</td>\n      <td>2022.1.2</td>\n      <td>60.027536</td>\n      <td>S1</td>\n    </tr>\n  </tbody>\n</table>\n</div>"
     },
     "execution_count": 13,
     "metadata": {},
     "output_type": "execute_result"
    }
   ],
   "source": [
    "# Rauswerfen der Spalte Unnamed: 80\n",
    "df_complete.drop(columns=\"Unnamed: 80\", inplace=True)\n",
    "df_complete.head()"
   ],
   "metadata": {
    "collapsed": false,
    "pycharm": {
     "name": "#%%\n"
    }
   }
  },
  {
   "cell_type": "markdown",
   "source": [
    "## Spalten umbenennen"
   ],
   "metadata": {
    "collapsed": false,
    "pycharm": {
     "name": "#%% md\n"
    }
   }
  },
  {
   "cell_type": "code",
   "execution_count": 14,
   "outputs": [],
   "source": [
    "cols_to_rename = {\n",
    "    \"blocks.thisN\": \"Block_Nr\",\n",
    "    \"trial_resp.rt\": \"RT\",\n",
    "    \"trial_resp.keys\": \"Response\",\n",
    "    \"ExpIndex\": \"Trial_Nr\",\n",
    "    \"participant\": \"Participant_ID\",\n",
    "    \"sex\": \"Sex\",\n",
    "    \"subject_id\": \"Subject_ID\"}\n",
    "df_complete.rename(columns=cols_to_rename, inplace=True)"
   ],
   "metadata": {
    "collapsed": false,
    "pycharm": {
     "name": "#%%\n"
    }
   }
  },
  {
   "cell_type": "code",
   "execution_count": 15,
   "outputs": [],
   "source": [
    "df_complete.columns.tolist()\n",
    "cols_to_keep = [\n",
    "    \"index\",\n",
    "    \"Block_Nr\",\n",
    "    \"Grad\",\n",
    "    \"Grad_abs\",\n",
    "    \"Looker\",\n",
    "    \"Stim_path\",\n",
    "    \"Training\",\n",
    "    \"Response\",\n",
    "    \"RT\",\n",
    "    \"LookerSex\",\n",
    "    \"Condition\",\n",
    "    \"expIndex\",\n",
    "    \"Participant_ID\",\n",
    "    \"Sex\",\n",
    "    \"Sehtest\",\n",
    "    \"date\",\n",
    "    \"Subject_ID\"\n",
    "]\n",
    "df_subset = df_complete[cols_to_keep]"
   ],
   "metadata": {
    "collapsed": false,
    "pycharm": {
     "name": "#%%\n"
    }
   }
  },
  {
   "cell_type": "code",
   "execution_count": 16,
   "outputs": [
    {
     "data": {
      "text/plain": "   index  Block_Nr  Grad  Grad_abs                      Looker  \\\n0      1       NaN   NaN       NaN                         NaN   \n1      2       NaN -30.0      30.0  Projekt/Stimuli/training/m   \n2      3       NaN -30.0      30.0  Projekt/Stimuli/training/f   \n3      4       NaN   0.0       0.0  Projekt/Stimuli/training/f   \n4      5       NaN   0.0       0.0  Projekt/Stimuli/training/m   \n\n                                           Stim_path  Training  Response  RT  \\\n0                                                NaN       NaN       NaN NaN   \n1  /home/krusty/Documents/Empra_Projekt/Stimuli/t...       1.0       NaN NaN   \n2  /home/krusty/Documents/Empra_Projekt/Stimuli/t...       1.0       NaN NaN   \n3  /home/krusty/Documents/Empra_Projekt/Stimuli/t...       1.0       NaN NaN   \n4  /home/krusty/Documents/Empra_Projekt/Stimuli/t...       1.0       NaN NaN   \n\n  LookerSex Condition  expIndex  Participant_ID Sex  Sehtest  \\\n0       NaN       NaN       NaN             0.0   w      1.0   \n1       NaN       NaN       NaN             0.0   w      1.0   \n2       NaN       NaN       NaN             0.0   w      1.0   \n3       NaN       NaN       NaN             0.0   w      1.0   \n4       NaN       NaN       NaN             0.0   w      1.0   \n\n                      date Subject_ID  \n0  2022-07-01_18h26.16.888         S1  \n1  2022-07-01_18h26.16.888         S1  \n2  2022-07-01_18h26.16.888         S1  \n3  2022-07-01_18h26.16.888         S1  \n4  2022-07-01_18h26.16.888         S1  ",
      "text/html": "<div>\n<style scoped>\n    .dataframe tbody tr th:only-of-type {\n        vertical-align: middle;\n    }\n\n    .dataframe tbody tr th {\n        vertical-align: top;\n    }\n\n    .dataframe thead th {\n        text-align: right;\n    }\n</style>\n<table border=\"1\" class=\"dataframe\">\n  <thead>\n    <tr style=\"text-align: right;\">\n      <th></th>\n      <th>index</th>\n      <th>Block_Nr</th>\n      <th>Grad</th>\n      <th>Grad_abs</th>\n      <th>Looker</th>\n      <th>Stim_path</th>\n      <th>Training</th>\n      <th>Response</th>\n      <th>RT</th>\n      <th>LookerSex</th>\n      <th>Condition</th>\n      <th>expIndex</th>\n      <th>Participant_ID</th>\n      <th>Sex</th>\n      <th>Sehtest</th>\n      <th>date</th>\n      <th>Subject_ID</th>\n    </tr>\n  </thead>\n  <tbody>\n    <tr>\n      <th>0</th>\n      <td>1</td>\n      <td>NaN</td>\n      <td>NaN</td>\n      <td>NaN</td>\n      <td>NaN</td>\n      <td>NaN</td>\n      <td>NaN</td>\n      <td>NaN</td>\n      <td>NaN</td>\n      <td>NaN</td>\n      <td>NaN</td>\n      <td>NaN</td>\n      <td>0.0</td>\n      <td>w</td>\n      <td>1.0</td>\n      <td>2022-07-01_18h26.16.888</td>\n      <td>S1</td>\n    </tr>\n    <tr>\n      <th>1</th>\n      <td>2</td>\n      <td>NaN</td>\n      <td>-30.0</td>\n      <td>30.0</td>\n      <td>Projekt/Stimuli/training/m</td>\n      <td>/home/krusty/Documents/Empra_Projekt/Stimuli/t...</td>\n      <td>1.0</td>\n      <td>NaN</td>\n      <td>NaN</td>\n      <td>NaN</td>\n      <td>NaN</td>\n      <td>NaN</td>\n      <td>0.0</td>\n      <td>w</td>\n      <td>1.0</td>\n      <td>2022-07-01_18h26.16.888</td>\n      <td>S1</td>\n    </tr>\n    <tr>\n      <th>2</th>\n      <td>3</td>\n      <td>NaN</td>\n      <td>-30.0</td>\n      <td>30.0</td>\n      <td>Projekt/Stimuli/training/f</td>\n      <td>/home/krusty/Documents/Empra_Projekt/Stimuli/t...</td>\n      <td>1.0</td>\n      <td>NaN</td>\n      <td>NaN</td>\n      <td>NaN</td>\n      <td>NaN</td>\n      <td>NaN</td>\n      <td>0.0</td>\n      <td>w</td>\n      <td>1.0</td>\n      <td>2022-07-01_18h26.16.888</td>\n      <td>S1</td>\n    </tr>\n    <tr>\n      <th>3</th>\n      <td>4</td>\n      <td>NaN</td>\n      <td>0.0</td>\n      <td>0.0</td>\n      <td>Projekt/Stimuli/training/f</td>\n      <td>/home/krusty/Documents/Empra_Projekt/Stimuli/t...</td>\n      <td>1.0</td>\n      <td>NaN</td>\n      <td>NaN</td>\n      <td>NaN</td>\n      <td>NaN</td>\n      <td>NaN</td>\n      <td>0.0</td>\n      <td>w</td>\n      <td>1.0</td>\n      <td>2022-07-01_18h26.16.888</td>\n      <td>S1</td>\n    </tr>\n    <tr>\n      <th>4</th>\n      <td>5</td>\n      <td>NaN</td>\n      <td>0.0</td>\n      <td>0.0</td>\n      <td>Projekt/Stimuli/training/m</td>\n      <td>/home/krusty/Documents/Empra_Projekt/Stimuli/t...</td>\n      <td>1.0</td>\n      <td>NaN</td>\n      <td>NaN</td>\n      <td>NaN</td>\n      <td>NaN</td>\n      <td>NaN</td>\n      <td>0.0</td>\n      <td>w</td>\n      <td>1.0</td>\n      <td>2022-07-01_18h26.16.888</td>\n      <td>S1</td>\n    </tr>\n  </tbody>\n</table>\n</div>"
     },
     "execution_count": 16,
     "metadata": {},
     "output_type": "execute_result"
    }
   ],
   "source": [
    "df_subset.head()"
   ],
   "metadata": {
    "collapsed": false,
    "pycharm": {
     "name": "#%%\n"
    }
   }
  },
  {
   "cell_type": "markdown",
   "source": [
    "## 3.2 Datensatz speichern"
   ],
   "metadata": {
    "collapsed": false,
    "pycharm": {
     "name": "#%% md\n"
    }
   }
  },
  {
   "cell_type": "code",
   "execution_count": 17,
   "outputs": [],
   "source": [
    "df_complete.to_csv(\"exp_data.csv\")"
   ],
   "metadata": {
    "collapsed": false,
    "pycharm": {
     "name": "#%%\n"
    }
   }
  },
  {
   "cell_type": "markdown",
   "id": "6aa6ef10-335a-4461-acb7-15837f6d7547",
   "metadata": {
    "pycharm": {
     "name": "#%% md\n"
    }
   },
   "source": [
    "## (optional) Gradzahlen (original, absolute) hinzufügen"
   ]
  },
  {
   "cell_type": "code",
   "execution_count": 62,
   "id": "55a34e9c-8524-489e-af88-916c237a9382",
   "metadata": {
    "pycharm": {
     "name": "#%%\n"
    }
   },
   "outputs": [],
   "source": [
    "df_complete.insert(loc=len(df_complete.columns), column = \"Grad\", value = 0)\n",
    "df_complete.insert(loc=len(df_complete.columns), column = \"Grad_abs\", value = 0)\n",
    "df_complete.insert(loc=len(df_complete.columns), column = \"Looker\", value = 0)"
   ]
  },
  {
   "cell_type": "code",
   "execution_count": 59,
   "id": "2f0c9b07-6926-47d4-8020-5d5f689ae356",
   "metadata": {
    "pycharm": {
     "name": "#%%\n"
    }
   },
   "outputs": [
    {
     "data": {
      "text/plain": [
       "'M2'"
      ]
     },
     "execution_count": 59,
     "metadata": {},
     "output_type": "execute_result"
    }
   ],
   "source": [
    "a4 = df_complete[\"Stim_path\"][0]\n",
    "a4.split(\"_\")[-3].split(\"\\\\\")[-2]"
   ]
  },
  {
   "cell_type": "code",
   "execution_count": 60,
   "id": "9cb7f3de-b8a2-4a97-a04a-e3d6fdeabc2d",
   "metadata": {
    "pycharm": {
     "name": "#%%\n"
    }
   },
   "outputs": [
    {
     "data": {
      "text/plain": [
       "'M2'"
      ]
     },
     "execution_count": 60,
     "metadata": {},
     "output_type": "execute_result"
    }
   ],
   "source": [
    "a3 = df_complete[\"Stim_path\"][7]\n",
    "a3.split(\"_\")[-2].split(\"\\\\\")[-2]"
   ]
  },
  {
   "cell_type": "code",
   "execution_count": 63,
   "id": "eda3c025-cd0c-4a88-a985-0e47562e5583",
   "metadata": {
    "pycharm": {
     "name": "#%%\n"
    }
   },
   "outputs": [
    {
     "name": "stderr",
     "output_type": "stream",
     "text": [
      "C:\\Users\\calti\\AppData\\Local\\Temp\\ipykernel_6148\\2842183107.py:9: SettingWithCopyWarning: \n",
      "A value is trying to be set on a copy of a slice from a DataFrame\n",
      "\n",
      "See the caveats in the documentation: https://pandas.pydata.org/pandas-docs/stable/user_guide/indexing.html#returning-a-view-versus-a-copy\n",
      "  df_complete[\"Grad\"][i] = int(tmp_split[-2])\n",
      "C:\\Users\\calti\\AppData\\Local\\Temp\\ipykernel_6148\\2842183107.py:10: SettingWithCopyWarning: \n",
      "A value is trying to be set on a copy of a slice from a DataFrame\n",
      "\n",
      "See the caveats in the documentation: https://pandas.pydata.org/pandas-docs/stable/user_guide/indexing.html#returning-a-view-versus-a-copy\n",
      "  df_complete[\"Grad_abs\"][i] = abs(int(tmp_split[-2]))\n",
      "C:\\Users\\calti\\AppData\\Local\\Temp\\ipykernel_6148\\2842183107.py:11: SettingWithCopyWarning: \n",
      "A value is trying to be set on a copy of a slice from a DataFrame\n",
      "\n",
      "See the caveats in the documentation: https://pandas.pydata.org/pandas-docs/stable/user_guide/indexing.html#returning-a-view-versus-a-copy\n",
      "  df_complete[\"Looker\"][i] = tmp_split[-3].split(\"\\\\\")[-2]\n",
      "C:\\Users\\calti\\AppData\\Local\\Temp\\ipykernel_6148\\2842183107.py:14: SettingWithCopyWarning: \n",
      "A value is trying to be set on a copy of a slice from a DataFrame\n",
      "\n",
      "See the caveats in the documentation: https://pandas.pydata.org/pandas-docs/stable/user_guide/indexing.html#returning-a-view-versus-a-copy\n",
      "  df_complete[\"Grad\"][i] = int(tmp_split_2[0])\n",
      "C:\\Users\\calti\\AppData\\Local\\Temp\\ipykernel_6148\\2842183107.py:15: SettingWithCopyWarning: \n",
      "A value is trying to be set on a copy of a slice from a DataFrame\n",
      "\n",
      "See the caveats in the documentation: https://pandas.pydata.org/pandas-docs/stable/user_guide/indexing.html#returning-a-view-versus-a-copy\n",
      "  df_complete[\"Grad_abs\"][i] = abs(int(tmp_split_2[0]))\n"
     ]
    }
   ],
   "source": [
    "for i, elem in enumerate(df_complete[\"Stim_path\"]):\n",
    "\n",
    "    if type(elem) == float:\n",
    "        continue\n",
    "    \n",
    "    tmp_split = elem.split(\"_\")\n",
    "    \n",
    "    if len(tmp_split) == 4:\n",
    "        df_complete[\"Grad\"][i] = int(tmp_split[-2])\n",
    "        df_complete[\"Grad_abs\"][i] = abs(int(tmp_split[-2]))\n",
    "        df_complete[\"Looker\"][i] = tmp_split[-3].split(\"\\\\\")[-2]\n",
    "    elif len(tmp_split) == 3:\n",
    "        tmp_split_2 = tmp_split[-1].split(\".\")\n",
    "        df_complete[\"Grad\"][i] = int(tmp_split_2[0])\n",
    "        df_complete[\"Grad_abs\"][i] = abs(int(tmp_split_2[0]))\n",
    "        df_complete[\"Looker\"][i] = tmp_split[-2].split(\"\\\\\")[-2]"
   ]
  },
  {
   "cell_type": "markdown",
   "id": "ac5a8d2a-58bc-4b30-93d0-355d40d7efe2",
   "metadata": {
    "pycharm": {
     "name": "#%% md\n"
    }
   },
   "source": [
    "# 4. Datensatz speichern"
   ]
  },
  {
   "cell_type": "code",
   "execution_count": 13,
   "id": "79bb5d21-288a-40b9-b424-4efca48c9f12",
   "metadata": {
    "pycharm": {
     "name": "#%%\n"
    }
   },
   "outputs": [],
   "source": [
    "df_complete.to_csv(\"exp_data.csv\")"
   ]
  },
  {
   "cell_type": "markdown",
   "id": "574b13e2-59a6-43ba-9fae-6477179a8a64",
   "metadata": {
    "pycharm": {
     "name": "#%% md\n"
    }
   },
   "source": [
    "# 5. Visualisierungen / Datencheck"
   ]
  },
  {
   "cell_type": "markdown",
   "id": "732a90a7-01b5-4d45-9204-326ed41b5bea",
   "metadata": {
    "pycharm": {
     "name": "#%% md\n"
    }
   },
   "source": [
    "## 5.1. Häufigkeit der Grad Sehwinkel\n",
    "- wurden alles Blickrichtungen gleichhäufig präsentiert?"
   ]
  },
  {
   "cell_type": "code",
   "execution_count": 61,
   "id": "4c87c1cf-970f-47fc-bd35-8882cf8f1ba9",
   "metadata": {
    "pycharm": {
     "name": "#%%\n"
    }
   },
   "outputs": [
    {
     "data": {
      "text/plain": [
       "<AxesSubplot:xlabel='Grad_abs', ylabel='Count'>"
      ]
     },
     "execution_count": 61,
     "metadata": {},
     "output_type": "execute_result"
    },
    {
     "data": {
      "image/png": "[encoded data removed]",
      "text/plain": [
       "<Figure size 432x288 with 1 Axes>"
      ]
     },
     "metadata": {
      "needs_background": "light"
     },
     "output_type": "display_data"
    }
   ],
   "source": [
    "sns.histplot(data=df_complete,\n",
    "             x = \"Grad_abs\",\n",
    "            bins=34)"
   ]
  },
  {
   "cell_type": "markdown",
   "id": "9c01c679-788b-45df-86ae-899525290891",
   "metadata": {
    "pycharm": {
     "name": "#%% md\n"
    }
   },
   "source": [
    "## 5.2. Reaktionszeiten"
   ]
  },
  {
   "cell_type": "code",
   "execution_count": 16,
   "id": "9198bd72-e020-4ac1-8762-dc0ec179174a",
   "metadata": {
    "pycharm": {
     "name": "#%%\n"
    }
   },
   "outputs": [
    {
     "data": {
      "text/plain": "<seaborn.axisgrid.FacetGrid at 0x1da7477aca0>"
     },
     "execution_count": 16,
     "metadata": {},
     "output_type": "execute_result"
    },
    {
     "data": {
      "text/plain": "<Figure size 792.875x360 with 2 Axes>",
      "image/png": "[encoded data removed]"
     },
     "metadata": {},
     "output_type": "display_data"
    }
   ],
   "source": [
    "sns.displot(data=df_complete,\n",
    "            x = \"trial_resp.rt\",\n",
    "            hue = \"trial_resp.keys\",\n",
    "            col = \"Condition\",\n",
    "           palette=[\"red\", \"dodgerblue\"])"
   ]
  }
 ],
 "metadata": {
  "kernelspec": {
   "display_name": "Python 3 (ipykernel)",
   "language": "python",
   "name": "python3"
  },
  "language_info": {
   "codemirror_mode": {
    "name": "ipython",
    "version": 3
   },
   "file_extension": ".py",
   "mimetype": "text/x-python",
   "name": "python",
   "nbconvert_exporter": "python",
   "pygments_lexer": "ipython3",
   "version": "3.8.13"
  }
 },
 "nbformat": 4,
 "nbformat_minor": 5
}