{
 "cells": [
  {
   "cell_type": "markdown",
   "source": [
    "# Libraries"
   ],
   "metadata": {
    "collapsed": false,
    "pycharm": {
     "name": "#%% md\n"
    }
   }
  },
  {
   "cell_type": "code",
   "execution_count": 1,
   "outputs": [],
   "source": [
    "import pandas as pd\n",
    "import numpy as np\n",
    "import glob"
   ],
   "metadata": {
    "collapsed": false,
    "pycharm": {
     "name": "#%%\n"
    }
   }
  },
  {
   "cell_type": "code",
   "execution_count": 2,
   "outputs": [
    {
     "data": {
      "text/plain": "48"
     },
     "execution_count": 2,
     "metadata": {},
     "output_type": "execute_result"
    }
   ],
   "source": [
    "#csv_files = glob.glob(r\"C:\\Users\\Conrad Alting\\Documents\\Master\\D Empra\\data\"+ '\\\\*.csv')\n",
    "csv_files = glob.glob(r\"C:\\Users\\Conrad Alting\\OneDrive - uni-bielefeld.de\\Master\\D Projektarbeit\\D.2 Projektarbeit 2\\data\" + '\\\\*.csv')\n",
    "len(csv_files)"
   ],
   "metadata": {
    "collapsed": false,
    "pycharm": {
     "name": "#%%\n"
    }
   }
  },
  {
   "cell_type": "code",
   "execution_count": 3,
   "outputs": [],
   "source": [
    "df_list = []\n",
    "\n",
    "for elem in csv_files:\n",
    "    tmp_df = pd.read_csv(elem)\n",
    "    df_list.append(tmp_df)"
   ],
   "metadata": {
    "collapsed": false,
    "pycharm": {
     "name": "#%%\n"
    }
   }
  },
  {
   "cell_type": "code",
   "execution_count": 4,
   "outputs": [],
   "source": [
    "df_complete = pd.concat(df_list)"
   ],
   "metadata": {
    "collapsed": false,
    "pycharm": {
     "name": "#%%\n"
    }
   }
  },
  {
   "cell_type": "code",
   "execution_count": 5,
   "outputs": [
    {
     "data": {
      "text/plain": "['training_trials.thisRepN',\n 'training_trials.thisTrialN',\n 'training_trials.thisN',\n 'training_trials.thisIndex',\n 'blocks.thisRepN',\n 'blocks.thisTrialN',\n 'blocks.thisN',\n 'blocks.thisIndex',\n 'trials.thisRepN',\n 'trials.thisTrialN',\n 'trials.thisN',\n 'trials.thisIndex',\n 'exp_instr_text.started',\n 'exp_instr_text.stopped',\n 'exp_instr_resp.keys',\n 'exp_instr_resp.rt',\n 'exp_instr_resp.started',\n 'exp_instr_resp.stopped',\n 'instruktionen_audio.started',\n 'instruktionen_audio.stopped',\n 'press_space.started',\n 'press_space.stopped',\n 'train_instr_text.started',\n 'train_instr_text.stopped',\n 'train_resp.keys',\n 'train_resp.rt',\n 'train_resp.started',\n 'train_resp.stopped',\n 'ISI_training.started',\n 'ISI_training.stopped',\n 'face_stim_training.started',\n 'face_stim_training.stopped',\n 'training_rest.keys',\n 'training_rest.rt',\n 'training_rest.started',\n 'training_rest.stopped',\n 'Grad',\n 'Grad_abs',\n 'Looker',\n 'Stim_path',\n 'Training',\n 'trainIndex',\n 'train_exp_text.started',\n 'train_exp_text.stopped',\n 'train_exp_resp.keys',\n 'train_exp_resp.rt',\n 'train_exp_resp.started',\n 'train_exp_resp.stopped',\n 'block_instr_text.started',\n 'block_instr_text.stopped',\n 'block__instr_resp.keys',\n 'block__instr_resp.rt',\n 'block__instr_resp.started',\n 'block__instr_resp.stopped',\n 'block_instr_voice.started',\n 'block_instr_voice.stopped',\n 'text.started',\n 'text.stopped',\n 'ISI.started',\n 'ISI.stopped',\n 'ISI_instr.started',\n 'ISI_instr.stopped',\n 'face_stim.started',\n 'face_stim.stopped',\n 'trial_resp.keys',\n 'trial_resp.rt',\n 'trial_resp.started',\n 'trial_resp.stopped',\n 'LookerSex',\n 'Condition',\n 'expIndex',\n 'exp_end_text.started',\n 'exp_end_text.stopped',\n 'participant',\n 'sex',\n 'Sehtest',\n 'date',\n 'expName',\n 'psychopyVersion',\n 'frameRate',\n 'Unnamed: 80']"
     },
     "execution_count": 5,
     "metadata": {},
     "output_type": "execute_result"
    }
   ],
   "source": [
    "df_complete.columns.tolist()"
   ],
   "metadata": {
    "collapsed": false,
    "pycharm": {
     "name": "#%%\n"
    }
   }
  },
  {
   "cell_type": "code",
   "execution_count": 6,
   "outputs": [],
   "source": [
    "df_complete.drop(columns='Unnamed: 80', inplace=True)"
   ],
   "metadata": {
    "collapsed": false,
    "pycharm": {
     "name": "#%%\n"
    }
   }
  },
  {
   "cell_type": "code",
   "execution_count": 7,
   "outputs": [],
   "source": [
    "df_complete.to_csv('data_complete.csv')"
   ],
   "metadata": {
    "collapsed": false,
    "pycharm": {
     "name": "#%%\n"
    }
   }
  }
 ],
 "metadata": {
  "kernelspec": {
   "display_name": "Python 3",
   "language": "python",
   "name": "python3"
  },
  "language_info": {
   "codemirror_mode": {
    "name": "ipython",
    "version": 2
   },
   "file_extension": ".py",
   "mimetype": "text/x-python",
   "name": "python",
   "nbconvert_exporter": "python",
   "pygments_lexer": "ipython2",
   "version": "2.7.6"
  }
 },
 "nbformat": 4,
 "nbformat_minor": 0
}